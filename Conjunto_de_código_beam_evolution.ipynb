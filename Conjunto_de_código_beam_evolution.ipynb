{
  "metadata": {
    "language_info": {
      "codemirror_mode": {
        "name": "python",
        "version": 3
      },
      "file_extension": ".py",
      "mimetype": "text/x-python",
      "name": "python",
      "nbconvert_exporter": "python",
      "pygments_lexer": "ipython3",
      "version": "3.8"
    },
    "kernelspec": {
      "name": "python",
      "display_name": "Python (Pyodide)",
      "language": "python"
    }
  },
  "nbformat_minor": 4,
  "nbformat": 4,
  "cells": [
    {
      "cell_type": "code",
      "source": "import numpy as np\nimport matplotlib.pyplot as plt\nfrom numpy import pi\nfrom scipy import special as sp\nimport scipy.integrate as integrate\nfrom scipy.interpolate import CubicSpline\nfrom tqdm import tqdm\nfrom scipy.constants import fine_structure, speed_of_light, electron_mass, elementary_charge, hbar, epsilon_0\nrng = np.random.default_rng()",
      "metadata": {
        "trusted": true
      },
      "execution_count": null,
      "outputs": []
    },
    {
      "cell_type": "code",
      "source": "#variáveis e constantes\nelectron_radius = elementary_charge**2/(4*pi*epsilon_0*electron_mass*speed_of_light**2)\nnum_pon = 10000                                                    #número de pontos\nmean_ene = 1800                                                    #energia média inicial\nstd_div = 90                                                       #desvio padrão\nmag_field = np.array([2.5*10**3, 2.5*10**4, 2.5*10**5, 2.5*10**6]) #[T] intensidade do campo magnético\nchi_0 = 1                                                          #valor de chi máximo\ntau_e = hbar/(speed_of_light**2*electron_mass)                     #[s] time it takes for light to travel across the electron radius electron_radius/speed_of_light#\nn_bins = 50                                                       #número de bins do histograma\nt_end = np.array([20, 20, 5, 3])                                   #tempos finais\nt_steps = 500                                                      #numero de steps",
      "metadata": {
        "trusted": true
      },
      "execution_count": null,
      "outputs": []
    },
    {
      "cell_type": "code",
      "source": "def CLL(mean_ene, std_div, num_pon, chi_0, t_steps, mag_field, t_end):\n    def cnst_prop_2(mag):\n        return mag / (4.5 * 10 ** (9))\n\n    # definir a função h\n\n    def integration_func_h(x, X):\n        return (2 * x ** 2 * sp.kv(5 / 3, x)) / (2 + 3 * x * X) ** 2 + (\n                sp.kv(2 / 3, x) * 4 * x * (3 * x * X) ** 2) / (\n                       2 + 3 * x * X) ** 4\n\n    def integration_h(X):\n        return (9 * 3 ** 0.5 / (8 * pi)) * \\\n               integrate.quad(lambda x: integration_func_h(x, X), 0, np.Inf)[0]\n\n    chi_int = np.linspace(0.00001, chi_0 * 2, int(num_pon / 10))\n\n    S = np.array([integration_h(x) for x in chi_int])\n\n    func_h = CubicSpline(chi_int, S)\n\n    gamma_final = []\n\n    media_energia = []\n\n    var_energia = []\n\n    for j in tqdm(range(len(t_end))):\n        # valores de gamma\n        gamma_glob = mean_ene + std_div * rng.standard_normal(num_pon)\n\n        gamma_glob_1 = np.array(gamma_glob)\n\n        media_glob = np.zeros(t_steps)\n\n        var_glob = np.zeros(t_steps)\n\n        time_step = t_end[j] / t_steps\n\n        omega_c = elementary_charge * mag_field[j] / (\n                electron_mass * mean_ene)  # synchrotron frequency\n\n        for i in range(t_steps):\n            d_gamma = func_h(gamma_glob_1 * cnst_prop_2(mag_field[j])) * ((2 / 3) * fine_structure / tau_e / omega_c * (gamma_glob_1 * cnst_prop_2(mag_field[j])) ** 2) * time_step\n\n            gamma_glob_1 -= d_gamma\n\n            # proibir gammas menores que 1 (impossibilidade física)\n            for l in range(len(gamma_glob)):\n                if (gamma_glob_1[l] <= 1):\n                    gamma_glob_1[l] = 1\n\n            if i == int(t_steps / 2) - 1:  # gamma em t = tend/2\n                gamma_glob_2 = np.array(gamma_glob_1)  # gamma em t = tend/2\n\n            media_glob[i] = (np.sum(gamma_glob_1) / num_pon) / mean_ene\n            var_glob[i] = np.var(gamma_glob_1) / mean_ene ** 2\n\n        gamma_final += [[gamma_glob, gamma_glob_2, gamma_glob_1]]\n        media_energia += [media_glob]\n        var_energia += [var_glob]\n\n    return [gamma_final, media_energia, var_energia]",
      "metadata": {
        "trusted": true
      },
      "execution_count": null,
      "outputs": []
    },
    {
      "cell_type": "code",
      "source": "def Fokker_Planck(mean_ene, std_div, num_pon, chi_0, t_steps, mag_field, t_end):\n\n    def cnst_prop_2(mag):\n        return mag / (4.5 * 10 ** (9))\n\n    # definir a função h\n\n    def integration_func_h(x, X):\n        return (2 * x ** 2 * sp.kv(5 / 3, x)) / (2 + 3 * x * X) ** 2 + (\n                sp.kv(2 / 3, x) * 4 * x * (3 * x * X) ** 2) / (\n                       2 + 3 * x * X) ** 4\n\n    def integration_h(X):\n        return (9 * 3 ** 0.5 / (8 * pi)) * \\\n               integrate.quad(lambda x: integration_func_h(x, X), 0, np.Inf)[0]\n\n    chi_int = np.linspace(0.0001, chi_0*1.1, int(num_pon/10))\n\n    S = np.array([integration_h(x) for x in chi_int])\n\n    func_h = CubicSpline(chi_int, S)\n\n    # definir a função g\n\n    def integration_func_g(x, X):\n        return (2 * x ** 3 * X ** 3 * sp.kv(5 / 3, x)) / (\n                    2 + 3 * x * X) ** 3 + (\n                       sp.kv(2 / 3, x) * 54 * x ** 4 * X ** 5) / (\n                       2 + 3 * x * X) ** 5\n\n    def integration_g(X):\n        return (9 * 3 ** 0.5 / (4 * pi)) * \\\n               integrate.quad(lambda x: integration_func_g(x, X), 0, np.Inf)[0]\n\n    R = np.array([integration_g(x) for x in chi_int])\n\n    func_g = CubicSpline(chi_int, R)\n\n    # aplicar o fokker-planck pusher\n\n    gamma_final = []\n\n    media_energia = []\n\n    var_energia = []\n\n    for j in tqdm(range(len(t_end))):\n        # valores de gamma\n        gamma_glob = mean_ene + std_div * rng.standard_normal(num_pon)\n\n        gamma_glob_1 = np.array(gamma_glob)\n\n        media_glob = np.zeros(t_steps)\n\n        var_glob = np.zeros(t_steps)\n\n        time_step = t_end[j] / t_steps\n\n        omega_c = elementary_charge * mag_field[j] / (\n                electron_mass * mean_ene)  # synchrotron frequency\n\n        for i in range(t_steps):\n\n            dW = np.sqrt(time_step) * np.random.randn(num_pon)\n\n            d_gamma_1 = np.sqrt(func_g(gamma_glob_1 * cnst_prop_2(mag_field[j])) * ((2 / 3) * fine_structure / tau_e / omega_c) * gamma_glob_1) * dW\n\n            d_gamma_2 = func_h(gamma_glob_1 * cnst_prop_2(mag_field[j])) * ((2 / 3) * fine_structure / tau_e / omega_c * (gamma_glob_1 * cnst_prop_2(mag_field[j])) ** 2) * time_step\n\n            d_gamma = d_gamma_1 - d_gamma_2\n\n            gamma_glob_1 += d_gamma\n\n            # proibir gammas menores que 1 (impossibilidade física)\n            for l in range(len(gamma_glob)):\n                if (gamma_glob_1[l] <= 1):\n                    gamma_glob_1[l] = 1\n\n            if i == int(t_steps / 2) - 1:  # gamma em t = tend/2\n                gamma_glob_2 = np.array(gamma_glob_1)  # gamma em t = tend/2\n\n\n            media_glob[i] = (np.sum(gamma_glob_1)/num_pon)/mean_ene\n            var_glob[i] = np.var(gamma_glob_1)/mean_ene**2\n\n        gamma_final += [[gamma_glob, gamma_glob_2, gamma_glob_1]]\n        media_energia += [media_glob]\n        var_energia += [var_glob]\n\n    return [gamma_final, media_energia, var_energia]\n",
      "metadata": {
        "trusted": true
      },
      "execution_count": null,
      "outputs": []
    },
    {
      "cell_type": "code",
      "source": "Beam_evolution = Fokker_Planck(mean_ene, std_div, num_pon, chi_0, t_steps, mag_field, t_end)\n\nBeam_evolution_cll = CLL(mean_ene, std_div, num_pon, chi_0, t_steps, mag_field, t_end)",
      "metadata": {
        "trusted": true
      },
      "execution_count": null,
      "outputs": []
    },
    {
      "cell_type": "code",
      "source": "fig_1, axis_1 = plt.subplots(2, 2, figsize=(18,4))\n\nfig_1.suptitle('Median Energy Evolution of Electron Beams')\n\naxis_1[0, 0].set_xlim([0, 20])\naxis_1[0, 0].set_ylim([0, 1])\n\naxis_1[0, 0].set_title('${top:}\\chi_{0}=10^{-3}{;bottom:}\\chi_{0}=10^{-1}$')\n\naxis_1[0, 0].set_xticks([0, 5, 10, 15, 20])\naxis_1[0, 0].set_yticks([0.2, 0.4, 0.6, 0.8, 1])\n\naxis_1[0, 0].set_ylabel('${\\gamma}/{\\gamma_0}$')\n\naxis_1[0, 1].set_xlim([0, 20])\naxis_1[0, 1].set_ylim([0, 1])\n\naxis_1[0, 1].set_xticks([0, 5, 10, 15, 20])\naxis_1[0, 1].set_yticks([0.2, 0.4, 0.6, 0.8, 1])\n\naxis_1[0, 1].set_title('${top:}\\chi_{0}=10^{-2}{;bottom:}\\chi_{0}=1$')\n\naxis_1[1, 0].set_xlim([0, 5])\naxis_1[1, 0].set_ylim([0, 1])\n\naxis_1[1, 0].set_xticks([0, 1, 2, 3, 4, 5])\naxis_1[1, 0].set_yticks([0.2, 0.4, 0.6, 0.8, 1])\n\naxis_1[1, 0].set_ylabel('${\\gamma}/{\\gamma_0}$')\naxis_1[1, 0].set_xlabel('${\\omega}_ct$')\n\naxis_1[1, 1].set_xlim([0, 3])\naxis_1[1, 1].set_ylim([0, 1])\n\naxis_1[1, 1].set_xticks([0, 1, 2, 3])\naxis_1[1, 1].set_yticks([0.2, 0.4, 0.6, 0.8, 1])\n\naxis_1[1, 1].set_xlabel('${\\omega}_ct$')\n\naxis_1[0,0].tick_params(\n    axis='x',\n    which='both',\n    bottom=True,\n    top=False,\n    labelbottom=False)\naxis_1[0,1].tick_params(\n    axis='x',\n    which='both',\n    bottom=True,\n    top=False,\n    labelbottom=False)\n\nfor i in range(len(Beam_evolution[1])):\n    x_axis = np.linspace(0, t_end[i], t_steps)\n\n    if i == 0:\n        axis_1[0, 0].plot(x_axis, Beam_evolution[1][i], color='red', label=r'$FP$')\n        axis_1[0, 0].plot(x_axis, Beam_evolution_cll[1][i], color='black', label=r'$CLL$')\n\n    if i == 1:\n        axis_1[0, 1].plot(x_axis, Beam_evolution[1][i], color='red', label=r'$FP$')\n        axis_1[0, 1].plot(x_axis, Beam_evolution_cll[1][i], color='black', label=r'$CLL$')\n\n    if i == 2:\n        axis_1[1, 0].plot(x_axis, Beam_evolution[1][i], color='red', label=r'$FP$')\n        axis_1[1, 0].plot(x_axis, Beam_evolution_cll[1][i], color='black', label=r'$CLL$')\n\n    if i == 3:\n        axis_1[1, 1].plot(x_axis, Beam_evolution[1][i], color='red', label=r'$FP$')\n        axis_1[1, 1].plot(x_axis, Beam_evolution_cll[1][i], color='black', label=r'$CLL$')\n\naxis_1[0, 0].legend(loc=2, prop={'size': 12})\naxis_1[0, 1].legend(loc=2, prop={'size': 12})\naxis_1[1, 0].legend(loc=2, prop={'size': 12})\naxis_1[1, 1].legend(loc=2, prop={'size': 12})\n\nplt.show()",
      "metadata": {
        "trusted": true
      },
      "execution_count": null,
      "outputs": []
    },
    {
      "cell_type": "code",
      "source": "fig_2, axis_2 = plt.subplots(2, 2, figsize=(18,4))\n\nfig_2.suptitle('Variance Evolution of Electron Beams')\n\naxis_2[0, 0].set_xlim([0, 20])\naxis_2[0, 0].set_ylim([0.0012, 0.0028])\n\naxis_2[0, 0].set_title('${top:}\\chi_{0}=10^{-3}{;bottom:}\\chi_{0}=10^{-1}$')\n\naxis_2[0, 0].set_xticks([0, 5, 10, 15, 20])\naxis_2[0, 0].set_yticks([0.0012, 0.0016, 0.0020, 0.0024, 0.0028])\n\n\naxis_2[0, 0].set_ylabel('${\\gamma}/{\\gamma_0}$')\n\naxis_2[0, 1].set_xlim([0, 20])\naxis_2[0, 1].set_ylim([0, 0.004])\n\naxis_2[0, 1].set_xticks([0, 5, 10, 15, 20])\naxis_2[0, 1].set_yticks([0, 0.001, 0.002, 0.003, 0.004])\n\naxis_2[0, 1].set_title('${top:}\\chi_{0}=10^{-2}{;bottom:}\\chi_{0}=1$')\n\naxis_2[1, 0].set_xlim([0, 5])\naxis_2[1, 0].set_ylim([0, 0.02])\n\naxis_2[1, 0].set_xticks([0, 1, 2, 3, 4, 5])\naxis_2[1, 0].set_yticks([0, 0.005, 0.01, 0.015, 0.02])\n\naxis_2[1, 0].set_ylabel('${\\gamma}/{\\gamma_0}$')\n\naxis_2[1, 1].set_xlim([0, 3])\naxis_2[1, 1].set_ylim([0, 0.08])\n\naxis_2[1, 1].set_xticks([0, 1, 2, 3])\naxis_2[1, 1].set_yticks([0, 0.02, 0.04 , 0.06, 0.08])\n\naxis_2[1, 1].set_xlabel('${\\omega}_ct$')\n\naxis_2[0,0].tick_params(\n    axis='x',\n    which='both',\n    bottom=True,\n    top=False,\n    labelbottom=False)\naxis_2[0,1].tick_params(\n    axis='x',\n    which='both',\n    bottom=True,\n    top=False,\n    labelbottom=False)\n\nfor i in range(len(Beam_evolution[1])):\n    x_axis = np.linspace(0, t_end[i], t_steps)\n\n    if i == 0:\n        axis_2[0, 0].plot(x_axis, Beam_evolution[2][i], color='red', label=r'$FP$')\n        axis_2[0, 0].plot(x_axis, Beam_evolution_cll[2][i], color='black', label=r'$CLL$')\n\n    if i == 1:\n        axis_2[0, 1].plot(x_axis, Beam_evolution[2][i], color='red', label=r'$FP$')\n        axis_2[0, 1].plot(x_axis, Beam_evolution_cll[2][i], color='black', label=r'$CLL$')\n\n    if i == 2:\n        axis_2[1, 0].plot(x_axis, Beam_evolution[2][i], color='red', label=r'$FP$')\n        axis_2[1, 0].plot(x_axis, Beam_evolution_cll[2][i], color='black', label=r'$CLL$')\n\n    if i == 3:\n        axis_2[1, 1].plot(x_axis, Beam_evolution[2][i], color='red', label=r'$FP$')\n        axis_2[1, 1].plot(x_axis, Beam_evolution_cll[2][i], color='black', label=r'$CLL$')\n\naxis_2[0, 0].legend(loc=2, prop={'size': 12})\naxis_2[0, 1].legend(loc=2, prop={'size': 12})\naxis_2[1, 0].legend(loc=2, prop={'size': 12})\naxis_2[1, 1].legend(loc=2, prop={'size': 12})\n\nplt.show()",
      "metadata": {
        "trusted": true
      },
      "execution_count": null,
      "outputs": []
    },
    {
      "cell_type": "code",
      "source": "fig, axis = plt.subplots(2, 2, figsize=(18,4))\n\nfig.suptitle('Distribution Evolution of Electron Beams')\n\naxis[0, 0].set_yscale('log')\n\naxis[0, 0].set_xlim([0, 1.25])\naxis[0, 0].set_ylim([0.01, 100])\n\naxis[0, 0].set_title('${top:}\\chi_{0}=10^{-3}{;bottom:}\\chi_{0}=10^{-1}$')\n\naxis[0, 0].set_xticks([0, 0.25, 0.5, 0.75, 1, 1.25])\n\naxis[0, 0].set_ylabel('$f_e(\\gamma)$')\n\naxis[0, 1].set_yscale('log')\n\naxis[0, 1].set_xlim([0, 1.25])\naxis[0, 1].set_ylim([0.01, 100])\n\naxis[0, 1].set_xticks([0, 0.25, 0.5, 0.75, 1, 1.25])\n\naxis[0, 1].set_title('${top:}\\chi_{0}=10^{-2}{;bottom:}\\chi_{0}=1$')\n\naxis[1, 0].set_yscale('log')\n\naxis[1, 0].set_xlim([0, 1.25])\naxis[1, 0].set_ylim([0.01, 100])\n\naxis[1, 0].set_xticks([0, 0.25, 0.5, 0.75, 1, 1.25])\n\naxis[1, 0].set_xlabel('${\\gamma}/{\\gamma_0}$')\naxis[1, 0].set_ylabel('$f_e(\\gamma)$')\n\naxis[1, 1].set_yscale('log')\n\naxis[1, 1].set_xlim([0, 1.25])\naxis[1, 1].set_ylim([0.01, 100])\n\naxis[1, 1].set_xticks([0, 0.25, 0.5, 0.75, 1, 1.25])\n\naxis[1, 1].set_xlabel('${\\gamma}/{\\gamma_0}$')\n\naxis[0,0].tick_params(\n    axis='x',\n    which='both',\n    bottom=True,\n    top=False,\n    labelbottom=False)\naxis[0,1].tick_params(\n    axis='x',\n    which='both',\n    bottom=True,\n    top=False,\n    labelbottom=False)\n\n\nfor i in range(len(Beam_evolution[0])):\n        # histograma em t=0\n\n        if i == 0 or i == 1:\n\n            axis[0, i].hist(Beam_evolution[0][i][0] / mean_ene, n_bins, density=True,\n                            color='red', alpha=0.5,\n                            histtype='bar')\n\n            # histograma em t = tend/2\n            axis[0, i].hist(Beam_evolution[0][i][1] / mean_ene, n_bins, density=True,\n                            color='green', alpha=0.5,\n                            histtype='bar')\n\n            # histograma em t = tend\n            axis[0, i].hist(Beam_evolution[0][i][2] / mean_ene, n_bins, density=True,\n                            color='blue', alpha=0.5,\n                            histtype='bar')\n\n        else:\n            axis[1, i-2].hist(Beam_evolution[0][i][0] / mean_ene, n_bins,\n                            density=True,\n                            color='red', alpha=0.5,\n                            histtype='bar')\n\n            # histograma em t = tend/2\n            axis[1, i-2].hist(Beam_evolution[0][i][1] / mean_ene, n_bins,\n                            density=True,\n                            color='green', alpha=0.5,\n                            histtype='bar')\n\n            # histograma em t = tend\n            axis[1, i-2].hist(Beam_evolution[0][i][2] / mean_ene, n_bins,\n                            density=True,\n                            color='blue', alpha=0.5,\n                            histtype='bar')\nplt.show()",
      "metadata": {
        "trusted": true
      },
      "execution_count": null,
      "outputs": []
    }
  ]
}