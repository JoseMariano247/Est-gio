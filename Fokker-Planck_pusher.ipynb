{
  "metadata": {
    "language_info": {
      "codemirror_mode": {
        "name": "python",
        "version": 3
      },
      "file_extension": ".py",
      "mimetype": "text/x-python",
      "name": "python",
      "nbconvert_exporter": "python",
      "pygments_lexer": "ipython3",
      "version": "3.8"
    },
    "kernelspec": {
      "name": "python",
      "display_name": "Python (Pyodide)",
      "language": "python"
    }
  },
  "nbformat_minor": 4,
  "nbformat": 4,
  "cells": [
    {
      "cell_type": "code",
      "source": "import numpy as np\nimport matplotlib.pyplot as plt\nfrom numpy import pi\nfrom scipy import special as sp\nimport scipy.integrate as integrate\nfrom scipy.interpolate import CubicSpline\nfrom tqdm import tqdm\nfrom scipy.constants import fine_structure, speed_of_light, electron_mass, elementary_charge, hbar\nrng = np.random.default_rng()",
      "metadata": {
        "trusted": true
      },
      "execution_count": null,
      "outputs": []
    },
    {
      "cell_type": "code",
      "source": "#variáveis e constantes\n\nnum_pon = 10000                                                    #número de pontos\nmean_ene = 1800                                                    #energia média inicial\nstd_div = 90                                                       #desvio padrão\nmag_field = np.array([2.5*10**6, 2.5*10**5, 2.5*10**4, 2.5*10**3]) #[T] intensidade do campo magnético\nchi_0 = 1                                                          #valor de chi máximo\ntau_e = hbar/(speed_of_light**2*electron_mass)                     #[s] time it takes for light to travel across the electron radius\nn_bins = 500                                                       #número de bins do histograma\nt_end = np.array([3, 5, 20, 20])                                   #tempos finais\nt_steps = 500                                                      #numero de steps",
      "metadata": {
        "trusted": true
      },
      "execution_count": null,
      "outputs": []
    },
    {
      "cell_type": "code",
      "source": "#valores de gamma\ngamma_glob = mean_ene + std_div*rng.standard_normal(num_pon)\n\ndef cnst_prop_2(mag):\n    return mag/(4.5*10**(9))\n\n#definir a função h\n\ndef integration_func_h(x, X):\n    if x < 0.0001:\n        return (2 * x ** 3 * X ** 3 * (0.5*sp.gamma(5/3)*(x/2)**(-5/3))) / (2 + 3 * x * X) ** 3 + (\n                sp.kv(2 / 3, x) * 54 * x ** 4 * X ** 5) / (\n                2 + 3 * x * X) ** 5\n    else:\n        return (2 * x ** 2 * sp.kv(5 / 3, x)) / (2 + 3 * x * X) ** 2 + (\n                    sp.kv(2 / 3, x) * 4 * x * (3 * x * X) ** 2) / (\n                           2 + 3 * x * X) ** 4\n\n\ndef integration_h(X):\n    if x < 0.0001:\n        return (2 * x ** 2 * (0.5*sp.gamma(5/3)*(x/2)**(-5/3))) / (2 + 3 * x * X) ** 2 + (\n                    (0.5*sp.gamma(2/3)*(x/2)**(-2/3)) * 4 * x * (3 * x * X) ** 2) / (\n                           2 + 3 * x * X) ** 4\n    else:\n        return (9 * 3 ** 0.5 / (8 * pi)) * \\\n               integrate.quad(lambda x: integration_func_h(x, X), 0, np.Inf)[0]\n\nchi_int = np.linspace(0.00001, chi_0*2, int(num_pon/10))\n\nS = np.array([integration_h(x) for x in chi_int])\n\nfunc_h = CubicSpline(chi_int, S)\n\n#definir a função g\n\ndef integration_func_g(x, X):\n    return (2 * x ** 3 * X**3 * sp.kv(5 / 3, x)) / (2 + 3 * x * X) ** 3 + (\n                sp.kv(2 / 3, x) * 54 * x**4 * X ** 5) / (\n                        2 + 3 * x * X) ** 5\n\ndef integration_g(X):\n    return (9 * 3 ** 0.5 / (4 * pi)) * \\\n            integrate.quad(lambda x: integration_func_g(x, X), 0, np.Inf)[0]\n\nR = np.array([integration_g(x) for x in chi_int])\n\nfunc_g = CubicSpline(chi_int, R)",
      "metadata": {
        "trusted": true
      },
      "execution_count": null,
      "outputs": []
    },
    {
      "cell_type": "code",
      "source": "#aplicar o fokker-planck pusher\ndef beam_evolution(mag_field_0, gamma_glob_0, t_end_0):\n\n    gamma_glob_1 = np.array(gamma_glob_0)\n\n    for i in range(t_steps):\n\n        time_step = t_end_0/t_steps\n\n        omega_c = elementary_charge * mag_field_0 / (electron_mass * mean_ene)  #synchrotron frequency\n\n        dW = np.sqrt(time_step) * np.random.randn(num_pon)\n\n        d_gamma_1 = np.sqrt(func_g(gamma_glob_1*cnst_prop_2(mag_field_0))*((2/3)*fine_structure/tau_e/omega_c)*gamma_glob_1) * dW\n\n        d_gamma_2 = func_h(gamma_glob_1*cnst_prop_2(mag_field_0))*((2/3)*fine_structure/tau_e/omega_c*(gamma_glob_1*cnst_prop_2(mag_field_0))**2) * time_step\n\n        d_gamma = d_gamma_1 - d_gamma_2\n\n        gamma_glob_1 += d_gamma\n\n        #proibir gammas menores que 1 (impossibilidade física)\n        for l in range(len(gamma_glob_0)):\n            if(gamma_glob_1[l] <= 1):\n                gamma_glob_1[l] = 1\n\n        if i == int(t_steps/2) - 1:  #gamma em t = tend/2\n            gamma_glob_2 = np.array(gamma_glob_1)  #gamma em t = tend/2\n\n    return [gamma_glob_2, gamma_glob_1]",
      "metadata": {
        "trusted": true
      },
      "execution_count": null,
      "outputs": []
    },
    {
      "cell_type": "code",
      "source": "fig, axis = plt.subplots(2, 2)\n\nfig.suptitle('Distribution Evolution of Electron Beams')\n\nfig.tight_layout(pad=2.8)\n\nfor i in tqdm(range(len(mag_field))):\n\n    #chi=1\n    if (i==3):\n\n        evolution = beam_evolution(mag_field[i], gamma_glob, t_end[i])\n\n        #histograma em t=0\n        axis[0, 0].hist(gamma_glob / mean_ene, n_bins, density=True,\n                 color='red', alpha=0.5,\n                 histtype='bar')\n\n        #histograma em t = tend/2\n        axis[0, 0].hist(evolution[0] / mean_ene, n_bins, density=True,\n                 color='green', alpha=0.5,\n                 histtype='bar')\n\n        #histograma em t = tend\n        axis[0, 0].hist(evolution[1] /mean_ene, n_bins, density=True,\n                    color='blue', alpha=0.5,\n                    histtype='bar')\n\n    #chi=10^-1\n    if (i == 2):\n        # histograma em t=0\n\n        evolution = beam_evolution(mag_field[i], gamma_glob, t_end[i])\n\n        axis[0, 1].hist(gamma_glob / mean_ene, n_bins, density=True,\n                        color='red', alpha=0.5,\n                        histtype='bar')\n\n        # histograma em t = tend/2\n        axis[0, 1].hist(\n            evolution[0] / mean_ene,\n            n_bins, density=True,\n            color='green', alpha=0.5,\n            histtype='bar')\n\n        # histograma em t = tend\n        axis[0, 1].hist(\n            evolution[1] / mean_ene,\n            n_bins, density=True,\n            color='blue', alpha=0.5,\n            histtype='bar')\n\n    #chi=10^-2\n    if (i == 1):\n\n        evolution = beam_evolution(mag_field[i], gamma_glob, t_end[i])\n\n        # histograma em t=0\n        axis[1, 0].hist(gamma_glob / mean_ene, n_bins, density=True,\n                        color='red', alpha=0.5,\n                        histtype='bar')\n\n        # histograma em t = tend/2\n        axis[1, 0].hist(\n            evolution[0] / mean_ene,\n            n_bins, density=True,\n            color='green', alpha=0.5,\n            histtype='bar')\n\n        # histograma em t = tend\n        axis[1, 0].hist(\n            evolution[1] / mean_ene,\n            n_bins, density=True,\n            color='blue', alpha=0.5,\n            histtype='bar')\n\n    #chi=10^-3\n    if (i == 0):\n\n        evolution = beam_evolution(mag_field[i], gamma_glob, t_end[i])\n\n        # histograma em t=0\n        axis[1, 1].hist(gamma_glob / mean_ene, n_bins, density=True,\n                        color='red', alpha=0.5,\n                        histtype='bar')\n\n        # histograma em t = tend/2\n        axis[1, 1].hist(\n            evolution[0] / mean_ene,\n            n_bins, density=True,\n            color='green', alpha=0.5,\n            histtype='bar')\n\n        # histograma em t = tend\n        axis[1, 1].hist(\n            evolution[1] / mean_ene,\n            n_bins, density=True,\n            color='blue', alpha=0.5,\n            histtype='bar')\n        \naxis[0, 0].set_yscale('log')\n\naxis[0, 0].set_xlim([0, 1.25])\naxis[0, 0].set_ylim([0.01, 100])\n\naxis[0, 0].set_xticks([0, 0.25, 0.5, 0.75, 1, 1.25])\n\naxis[0, 0].set_title('$\\chi_{0}=10^{-3}$')\n\naxis[0, 0].set_xlabel('${\\gamma}/{\\gamma_0}$')\naxis[0, 0].set_ylabel('$f_e(\\gamma)$')\n        \naxis[0, 1].set_yscale('log')\n\naxis[0, 1].set_xlim([0, 1.25])\naxis[0, 1].set_ylim([0.01, 100])\n\naxis[0, 1].set_xticks([0, 0.25, 0.5, 0.75, 1, 1.25])\n\naxis[0, 1].set_title('$\\chi_{0}=10^{-2}$')\n\naxis[0, 1].set_xlabel('${\\gamma}/{\\gamma_0}$')\naxis[0, 1].set_ylabel('$f_e(\\gamma)$')\n        \naxis[1, 0].set_yscale('log')\n\naxis[1, 0].set_xlim([0, 1.25])\naxis[1, 0].set_ylim([0.01, 100])\n\naxis[1, 0].set_xticks([0, 0.25, 0.5, 0.75, 1, 1.25])\n\naxis[1, 0].set_title('$\\chi_{0}=10^{-1}$')\n\naxis[1, 0].set_xlabel('${\\gamma}/{\\gamma_0}$')\naxis[1, 0].set_ylabel('$f_e(\\gamma)$')\n        \naxis[1, 1].set_yscale('log')\n\naxis[1, 1].set_xlim([0, 1.25])\naxis[1, 1].set_ylim([0.01, 100])\n\naxis[1, 1].set_xticks([0, 0.25, 0.5, 0.75, 1, 1.25])\n\naxis[1, 1].set_title('$\\chi_{0}=1$')\n\naxis[1, 1].set_xlabel('${\\gamma}/{\\gamma_0}$')\naxis[1, 1].set_ylabel('$f_e(\\gamma)$')\n\nplt.show()",
      "metadata": {
        "trusted": true
      },
      "execution_count": null,
      "outputs": []
    },
    {
      "cell_type": "code",
      "source": "",
      "metadata": {},
      "execution_count": null,
      "outputs": []
    }
  ]
}