{
 "cells": [
  {
   "cell_type": "code",
   "execution_count": 2,
   "id": "68041333",
   "metadata": {},
   "outputs": [],
   "source": [
    "import numpy as np\n",
    "import matplotlib.pyplot as plt\n",
    "from numpy import pi\n",
    "from scipy import special as sp\n",
    "import scipy.integrate as integrate\n",
    "from tqdm import tqdm\n",
    "from scipy.constants import fine_structure, speed_of_light, electron_mass, elementary_charge, hbar, epsilon_0"
   ]
  },
  {
   "cell_type": "code",
   "execution_count": 3,
   "id": "5c4fea1f",
   "metadata": {},
   "outputs": [],
   "source": [
    "#variáveis e constantes\n",
    "electron_radius = elementary_charge**2/(4*pi*epsilon_0*electron_mass*speed_of_light**2)\n",
    "num_pon = 100                                                      #número de pontos\n",
    "mag_field = 7.48e6                                                 #[T] intensidade do campo magnético\n",
    "tau_e = hbar/(speed_of_light**2*electron_mass)                     #[s] time it takes for light to travel across the electron radius electron_radius/speed_of_light\n",
    "t_end = 2.2                                                        #tempos finais\n",
    "t_steps = 5000                                                     #numero de steps\n",
    "t_int = t_end/t_steps                                              #intervalo de tempo\n",
    "min_ene = 0.0001                                                   #energia mínima\n",
    "max_ene = 3600                                                     #energia máxima\n",
    "d_ene = max_ene/num_pon                                            #intervalo de energia\n",
    "ene_0 = 3000                                                       #energia inicial\n",
    "ene_lst = np.linspace(min_ene, max_ene, num_pon)\n",
    "time_lst = np.linspace(0, t_end, t_steps)\n",
    "fdumps = np.zeros((t_steps,3*num_pon))"
   ]
  },
  {
   "cell_type": "code",
   "execution_count": 4,
   "id": "d392c1f8",
   "metadata": {},
   "outputs": [
    {
     "name": "stderr",
     "output_type": "stream",
     "text": [
      "100%|████████████████████████████████████████████████████████████████████████████████████████| 100/100 [00:00<?, ?it/s]\n"
     ]
    }
   ],
   "source": [
    "ene_lst_3 = np.zeros(3*num_pon)\n",
    "\n",
    "for i in tqdm(range(num_pon)):\n",
    "    ene_lst_3[i] = ene_lst[i]\n",
    "    ene_lst_3[i + num_pon] = ene_lst[i]\n",
    "    ene_lst_3[i + 2*num_pon] = ene_lst[i]\n",
    "\n",
    "\n",
    "enelst_final_e = np.zeros(t_steps)\n",
    "enelst_final_p = np.zeros(t_steps)\n",
    "enelst_final_g = np.zeros(t_steps)\n",
    "numlst_final_e = np.zeros(t_steps)\n",
    "numlst_final_p = np.zeros(t_steps)\n",
    "numlst_final_g = np.zeros(t_steps)\n",
    "chilst_final_e = np.zeros(t_steps)\n",
    "chilst_final_p = np.zeros(t_steps)\n",
    "chilst_final_g = np.zeros(t_steps)\n",
    "\n",
    "dfdt_mat = np.zeros((3*num_pon,3*num_pon))\n",
    "dfdt_mat_11_i = np.zeros((3*num_pon,3*num_pon))\n",
    "dfdt_mat_11_o = np.zeros((3*num_pon,3*num_pon))\n",
    "dfdt_mat_13 = np.zeros((3*num_pon,3*num_pon))\n",
    "dfdt_mat_22_i = np.zeros((3*num_pon,3*num_pon))\n",
    "dfdt_mat_22_o = np.zeros((3*num_pon,3*num_pon))\n",
    "dfdt_mat_23 = np.zeros((3*num_pon,3*num_pon))\n",
    "dfdt_mat_31 = np.zeros((3*num_pon,3*num_pon))\n",
    "dfdt_mat_32 = np.zeros((3*num_pon,3*num_pon))\n",
    "dfdt_mat_33 = np.zeros((3*num_pon,3*num_pon))"
   ]
  },
  {
   "cell_type": "code",
   "execution_count": 5,
   "id": "81a28370",
   "metadata": {},
   "outputs": [
    {
     "name": "stderr",
     "output_type": "stream",
     "text": [
      "  0%|                                                                                          | 0/100 [00:00<?, ?it/s]C:\\Users\\jmcm2\\AppData\\Local\\Temp\\ipykernel_25176\\4011042410.py:22: IntegrationWarning: The integral is probably divergent, or slowly convergent.\n",
      "  integrate.quad(lambda x: sp.kv(5 / 3, x), v, np.inf)[\n",
      "100%|████████████████████████████████████████████████████████████████████████████████| 100/100 [00:02<00:00, 37.31it/s]\n"
     ]
    }
   ],
   "source": [
    "def getEnergy(f):\n",
    "    return np.trapz(f * ene_lst, ene_lst)\n",
    "\n",
    "def getNumber(f):\n",
    "    return np.trapz(f, ene_lst)\n",
    "\n",
    "def getChi(f):\n",
    "    return np.trapz(f * ene_lst, ene_lst) / (\n",
    "                np.trapz(f, ene_lst) + 1e-12) * cnst_prop_2(mag_field)\n",
    "                \n",
    "def dfdt(yn):\n",
    "    res = np.matmul(dfdt_mat, yn)\n",
    "    return res\n",
    "\n",
    "def cnst_prop_2(mag):\n",
    "    return mag/(4.5*10**(9))\n",
    "\n",
    "#equacao 3.83 de 'Classical and Quantum Description of Plasma and Radiation in Strong Fields' de Fabien Niel\n",
    "def G_tilde_int(chi, epsilon):\n",
    "    v = 2 * epsilon / (3 * chi * (1 - epsilon))\n",
    "    return np.sqrt(3) / (2 * pi) * epsilon * (\n",
    "                integrate.quad(lambda x: sp.kv(5 / 3, x), v, np.inf)[\n",
    "                    0] + 1.5 * epsilon * chi * v * sp.kv(2 / 3, v))\n",
    "\n",
    "G_tilde_int_vec_aux = lambda chi1, epsilon1: G_tilde_int(chi1, epsilon1)\n",
    "\n",
    "G_tilde_int_vec = np.vectorize(G_tilde_int_vec_aux)\n",
    "\n",
    "#equacao 3.82 de 'Classical and Quantum Description of Plasma and Radiation in Strong Fields' de Fabien Niel\n",
    "def dN_dg(chi, epsilon):\n",
    "    omega_c = elementary_charge / electron_mass/1800**2 * mag_field * max_ene\n",
    "    if chi/cnst_prop_2(mag_field) <= min_ene or epsilon * chi/cnst_prop_2(mag_field) <= min_ene or epsilon >= 1 or epsilon <= 0:\n",
    "        return 0\n",
    "    return (2 / 3) * fine_structure / tau_e / omega_c * G_tilde_int_vec(chi, epsilon) / (epsilon * (chi/cnst_prop_2(mag_field))**2)\n",
    "\n",
    "#equacao 3.92 de 'Classical and Quantum Description of Plasma and Radiation in Strong Fields' de Fabien Niel\n",
    "def T_tilde(chi, epsilon):\n",
    "    v_linha = 2/(3*chi*(1-epsilon))\n",
    "    return np.sqrt(3)/(2*pi)*epsilon*(1.5*(chi/epsilon)*v_linha*sp.kv(2/3, v_linha) - integrate.quad(lambda x: sp.kv(5 / 3, x), v_linha, np.Inf)[0])\n",
    "\n",
    "T_tilde_int_vec_aux = lambda chi1, epsilon1: G_tilde_int(chi1, epsilon1)\n",
    "\n",
    "T_tilde_int_vec = np.vectorize(G_tilde_int_vec_aux)\n",
    "\n",
    "#equacao 3.91 de 'Classical and Quantum Description of Plasma and Radiation in Strong Fields' de Fabien Niel\n",
    "def dN_dl(chi, epsilon):\n",
    "    omega_c = elementary_charge / electron_mass/1800**2 * mag_field * max_ene\n",
    "    if (chi/epsilon)*cnst_prop_2(mag_field) <= min_ene or epsilon >= 1:\n",
    "        return 0\n",
    "    return (2 / 3) * fine_structure / tau_e / omega_c * T_tilde_int_vec(chi, epsilon) / ((chi/cnst_prop_2(mag_field))**2/epsilon)\n",
    "\n",
    "# electron: outgoing\n",
    "for i in tqdm(range(num_pon)):\n",
    "    dfdt_mat_11_o[i, i] = -np.sum(\n",
    "        np.array([dN_dg(ene_lst[i] * cnst_prop_2(mag_field), g/ene_lst[i]) for g in ene_lst[ene_lst < ene_lst[i]]])) * d_ene"
   ]
  },
  {
   "cell_type": "code",
   "execution_count": 6,
   "id": "dc084726",
   "metadata": {},
   "outputs": [
    {
     "name": "stderr",
     "output_type": "stream",
     "text": [
      "  0%|                                                                                          | 0/100 [00:00<?, ?it/s]C:\\Users\\jmcm2\\AppData\\Local\\Temp\\ipykernel_25176\\4011042410.py:22: IntegrationWarning: The integral is probably divergent, or slowly convergent.\n",
      "  integrate.quad(lambda x: sp.kv(5 / 3, x), v, np.inf)[\n",
      "100%|████████████████████████████████████████████████████████████████████████████████| 100/100 [00:02<00:00, 38.79it/s]\n",
      "100%|████████████████████████████████████████████████████████████████████████████████| 100/100 [00:02<00:00, 36.22it/s]\n",
      "100%|████████████████████████████████████████████████████████████████████████████████| 100/100 [00:02<00:00, 46.95it/s]\n",
      "100%|████████████████████████████████████████████████████████████████████████████████| 100/100 [00:02<00:00, 42.92it/s]\n",
      "100%|████████████████████████████████████████████████████████████████████████████████| 100/100 [00:02<00:00, 40.90it/s]\n",
      "100%|████████████████████████████████████████████████████████████████████████████████| 100/100 [00:01<00:00, 53.45it/s]\n",
      "100%|████████████████████████████████████████████████████████████████████████████████| 100/100 [00:04<00:00, 21.91it/s]\n",
      "100%|████████████████████████████████████████████████████████████████████████████████| 100/100 [00:01<00:00, 56.88it/s]\n"
     ]
    }
   ],
   "source": [
    "# electron: outgoing\n",
    "for i in tqdm(range(num_pon)):\n",
    "    dfdt_mat_11_o[i, i] = -np.sum(\n",
    "        np.array([dN_dg(ene_lst[i] * cnst_prop_2(mag_field), g/ene_lst[i]) for g in ene_lst[ene_lst < ene_lst[i]]])) * d_ene\n",
    "\n",
    "# electron: ingoing\n",
    "for i in tqdm(range(num_pon)):\n",
    "    for j in range(i, num_pon):\n",
    "        dfdt_mat_11_i[i, j] = dN_dg(ene_lst[j]*cnst_prop_2(mag_field), (ene_lst[j] - ene_lst[i])/ene_lst[j]) * d_ene\n",
    "\n",
    "# electron: pair production\n",
    "for i in tqdm(range(num_pon)):\n",
    "    for j in range(i, num_pon):\n",
    "        dfdt_mat_13[i, 2 * num_pon + j] = dN_dl(ene_lst[i]*cnst_prop_2(mag_field), ene_lst[i]/ene_lst[j]) * d_ene\n",
    "\n",
    "# positron: outgoing\n",
    "for i in tqdm(range(num_pon)):\n",
    "    dfdt_mat_22_o[num_pon + i, num_pon + i] = -np.sum(\n",
    "        np.array([dN_dg(ene_lst[i] * cnst_prop_2(mag_field), g/ene_lst[i]) for g in ene_lst[ene_lst < ene_lst[i]]])) * d_ene\n",
    "\n",
    "# positron: ingoing\n",
    "for i in tqdm(range(num_pon)):\n",
    "    for j in range(i, num_pon):\n",
    "        dfdt_mat_22_i[num_pon + i, num_pon + j] = dN_dg(ene_lst[j]*cnst_prop_2(mag_field), (ene_lst[j] - ene_lst[i])/ene_lst[j]) * d_ene\n",
    "\n",
    "# positron: pair production\n",
    "for i in tqdm(range(num_pon)):\n",
    "    for j in range(i, num_pon):\n",
    "        dfdt_mat_23[num_pon + i, 2 * num_pon + j] = dN_dl(ene_lst[i]*cnst_prop_2(mag_field), ene_lst[i]/ene_lst[j]) * d_ene\n",
    "\n",
    "# photon: photon production from leptons\n",
    "for i in tqdm(range(num_pon)):\n",
    "    for j in range(i, num_pon):\n",
    "        # electrons\n",
    "        dfdt_mat_31[2 * num_pon + i, 0 * num_pon + j] = dN_dg(ene_lst[j]*cnst_prop_2(mag_field),\n",
    "                                                         ene_lst[i]/ene_lst[j]) * d_ene\n",
    "        # positrons\n",
    "        dfdt_mat_32[2 * num_pon + i, 1 * num_pon + j] = dN_dg(ene_lst[j]*cnst_prop_2(mag_field),\n",
    "                                                         ene_lst[i]/ene_lst[j]) * d_ene\n",
    "# photon: photon decay\n",
    "for i in tqdm(range(num_pon)):\n",
    "    dfdt_mat_33[2 * num_pon + i, 2 * num_pon + i] = -np.sum(np.array(\n",
    "        [dN_dl(g * cnst_prop_2(mag_field), g/ene_lst[i]) for g in\n",
    "         ene_lst[(ene_lst < ene_lst[i]) + (ene_lst >= 2)]])) * d_ene\n",
    "\n",
    "dfdt_mat = dfdt_mat_11_i + dfdt_mat_11_o + dfdt_mat_13 + dfdt_mat_22_i + dfdt_mat_22_o + dfdt_mat_23 + dfdt_mat_31 + dfdt_mat_32 + dfdt_mat_33"
   ]
  },
  {
   "cell_type": "code",
   "execution_count": 7,
   "id": "38956ab9",
   "metadata": {},
   "outputs": [
    {
     "name": "stderr",
     "output_type": "stream",
     "text": [
      "100%|████████████████████████████████████████████████████████████████████████████| 4999/4999 [00:01<00:00, 3750.19it/s]\n"
     ]
    }
   ],
   "source": [
    "yn = np.zeros(3*num_pon)\n",
    "\n",
    "yn[np.abs(ene_lst-ene_0).argmin()] = 1\n",
    "\n",
    "fdumps[0,:] = yn\n",
    "enelst_final_e[0] = getEnergy(yn[:num_pon])\n",
    "enelst_final_p[0] = getEnergy(yn[num_pon:2*num_pon])\n",
    "enelst_final_g[0] = getEnergy(yn[2*num_pon:3*num_pon])\n",
    "numlst_final_e[0] = getNumber(yn[:num_pon])\n",
    "numlst_final_p[0] = getNumber(yn[num_pon:2*num_pon])\n",
    "numlst_final_g[0] = getNumber(yn[2*num_pon:3*num_pon])\n",
    "chilst_final_e[0] = getChi(yn[:num_pon])\n",
    "chilst_final_p[0] = getChi(yn[num_pon:2*num_pon])\n",
    "chilst_final_g[0] = getChi(yn[2*num_pon:3*num_pon])\n",
    "\n",
    "for n in tqdm(range(1, t_steps)):\n",
    "    k1 = dfdt(yn)\n",
    "    k2 = dfdt(yn+t_int*k1/2)\n",
    "    k3 = dfdt(yn+t_int*k2/2)\n",
    "    k4 = dfdt(yn+t_int*k3)\n",
    "    yn = yn + t_int/6 * (k1 + 2*k2 + 2*k3 + k4)\n",
    "\n",
    "    yn[yn <= 0] = 0\n",
    "\n",
    "    enelst_final_e[n] = getEnergy(yn[:num_pon])\n",
    "    enelst_final_p[n] = getEnergy(yn[num_pon:2 * num_pon])\n",
    "    enelst_final_g[n] = getEnergy(yn[2 * num_pon:3 * num_pon])\n",
    "\n",
    "    numlst_final_e[n] = getNumber(yn[:num_pon])\n",
    "    numlst_final_p[n] = getNumber(yn[num_pon:2 * num_pon])\n",
    "    numlst_final_g[n] = getNumber(yn[2*num_pon:3 * num_pon])\n",
    "\n",
    "    chilst_final_e[n] = getChi(yn[:num_pon])\n",
    "    chilst_final_p[n] = getChi(yn[num_pon:2 * num_pon])\n",
    "    chilst_final_g[n] = getChi(yn[2 * num_pon:3 * num_pon])\n",
    "\n",
    "    fdumps[n, :] = yn"
   ]
  },
  {
   "cell_type": "code",
   "execution_count": 8,
   "id": "07565572",
   "metadata": {},
   "outputs": [
    {
     "data": {
      "image/png": "[encoded data removed]",
      "text/plain": [
       "<Figure size 432x288 with 1 Axes>"
      ]
     },
     "metadata": {
      "needs_background": "light"
     },
     "output_type": "display_data"
    }
   ],
   "source": [
    "plt.plot(time_lst,enelst_final_p *0.9 *2.5 * 10**(-5),'blue', label=r'$E_{p}$')\n",
    "plt.plot(time_lst,enelst_final_e* 0.9 *2.5 * 10**(-5),'red', label=r'$E_{e}$')\n",
    "plt.plot(time_lst,enelst_final_g* 2.5 *0.9 * 10**(-5),'green', label=r'$E_{g}$')\n",
    "plt.plot(time_lst,0.5*(enelst_final_g+enelst_final_e+enelst_final_p)*2.5 *0.9 * 10**(-5),'--k', label=r'$E_{tot}$')\n",
    "plt.title('Energy Comparison of Kinds of Particles')\n",
    "plt.xlabel(r'$\\omega_B t$')\n",
    "plt.ylabel(r'$Energy$')\n",
    "plt.xlim(0, 2.2)\n",
    "plt.legend(loc='upper center', ncol=4)\n",
    "plt.show()"
   ]
  },
  {
   "cell_type": "code",
   "execution_count": 9,
   "id": "a537068a",
   "metadata": {},
   "outputs": [
    {
     "data": {
      "image/png": "[encoded data removed]",
      "text/plain": [
       "<Figure size 432x288 with 1 Axes>"
      ]
     },
     "metadata": {
      "needs_background": "light"
     },
     "output_type": "display_data"
    }
   ],
   "source": [
    "plt.plot(time_lst, numlst_final_e*1e3*0.9 *2.5 * 10**(-5),'red', label=r'electrons')\n",
    "plt.plot(time_lst, numlst_final_p*1e3*0.9 *2.5 * 10**(-5),'blue', label=r'protons')\n",
    "#plt.plot(time_lst, numlst_final_g*1e3*0.9 *2.5 * 10**(-5),'green')\n",
    "plt.title('Number of particles')\n",
    "plt.xlabel(r'$\\omega_B t$')\n",
    "plt.ylabel(r'$10^{-3} n_\\mathrm{tot}/n_c$')\n",
    "plt.xlim(0, 2.2)\n",
    "plt.legend(loc='upper center', ncol=3)\n",
    "plt.show()"
   ]
  },
  {
   "cell_type": "code",
   "execution_count": 10,
   "id": "c99e005a",
   "metadata": {},
   "outputs": [
    {
     "data": {
      "image/png": "[encoded data removed]",
      "text/plain": [
       "<Figure size 432x288 with 1 Axes>"
      ]
     },
     "metadata": {
      "needs_background": "light"
     },
     "output_type": "display_data"
    }
   ],
   "source": [
    "plt.plot(time_lst[1:],chilst_final_e[1:],'red', label=r'electrons')\n",
    "plt.plot(time_lst[1:],chilst_final_p[1:],'blue', label=r'protons')\n",
    "plt.plot(time_lst[1:],chilst_final_g[1:],'green', label=r'photons')\n",
    "plt.title('$\\chi$ Comparison of Kinds of Particles')\n",
    "plt.xlim(0, 2.2)\n",
    "plt.ylim(0.1, 10)\n",
    "plt.yticks([0.1, 1, 10])\n",
    "plt.xlabel(r'$\\omega_B t$')\n",
    "plt.ylabel(r'$\\langle \\chi \\rangle$')\n",
    "plt.yscale('log')\n",
    "plt.legend(loc='upper center', ncol=3)\n",
    "plt.show()"
   ]
  }
 ],
 "metadata": {
  "kernelspec": {
   "display_name": "Python 3 (ipykernel)",
   "language": "python",
   "name": "python3"
  },
  "language_info": {
   "codemirror_mode": {
    "name": "ipython",
    "version": 3
   },
   "file_extension": ".py",
   "mimetype": "text/x-python",
   "name": "python",
   "nbconvert_exporter": "python",
   "pygments_lexer": "ipython3",
   "version": "3.9.12"
  }
 },
 "nbformat": 4,
 "nbformat_minor": 5
}
