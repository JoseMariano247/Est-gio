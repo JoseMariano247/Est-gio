{
  "metadata": {
    "language_info": {
      "codemirror_mode": {
        "name": "python",
        "version": 3
      },
      "file_extension": ".py",
      "mimetype": "text/x-python",
      "name": "python",
      "nbconvert_exporter": "python",
      "pygments_lexer": "ipython3",
      "version": "3.8"
    },
    "kernelspec": {
      "name": "python",
      "display_name": "Python (Pyodide)",
      "language": "python"
    }
  },
  "nbformat_minor": 4,
  "nbformat": 4,
  "cells": [
    {
      "cell_type": "code",
      "source": "import numpy as np\nimport matplotlib.pyplot as plt\nfrom tqdm import tqdm",
      "metadata": {},
      "execution_count": null,
      "outputs": []
    },
    {
      "cell_type": "code",
      "source": "#Todos os beams terão a_0 = 1.\n#Os restantes parâmetros estarão de acordo com os do artigo em relação ao a_0\n\n#parametros do short beam:\n\nW0_s = 0.04       #spot size\nR_s = 0.12        #radius\nlambda_s = 0.0165 #wavelength\nz_r_s = np.pi * W0_s * W0_s / lambda_s\n\n#parametros do thin beam\n\nW0_t = 0.062      #spot size\nlambda_t = 0.0165 #wavelength\nL_t = 4.13        #length\nz_r_t = np.pi * W0_t * W0_t / lambda_t\na_z_t = 1 / np.sqrt(1 + (L_t/(4 * z_r_t)) * (L_t/(4 * z_r_t)))\n\n#parametros do wide beam\n\nW0_w = 0.41     #spot size\nR_w = 1.64      #radius\nlambda_w = 0.11 #wavelength\nL_w = 6.97      #length\nz_r_w = np.pi * W0_w * W0_w / lambda_w\na_z_w = 1 / np.sqrt(1 + (L_w/(4 * z_r_w)) * (L_t/(4 * z_r_w)))\n\nnum_pon = 10000",
      "metadata": {},
      "execution_count": null,
      "outputs": []
    },
    {
      "cell_type": "code",
      "source": "#gerar os eletroes\nrng = np.random.default_rng()\n\nl = 0\n\ncoord_t = L_t / 2 * rng.random(num_pon) - L_t / 4  # coordenada z do thin beam\n\ncoord_s = np.array([np.random.normal(0, 1 / np.sqrt(2) * R_s,\n                       num_pon), np.random.normal(0, 1 / np.sqrt(2) * R_s,\n                       num_pon)])\n\nfor i in tqdm(range(num_pon)):\n    z_w = L_w * rng.random() - L_w/2               #coordenada z do wide beam\n    x_w = 2 * R_w * rng.random() - R_w             #coordenada x do wide beam\n    y_w = 2 * R_w * rng.random() - R_w             #coordenada y do wide beam\n\n    crc = x_w * x_w + y_w * y_w\n\n    if l == 0 and crc <= R_w * R_w:\n        #eletroes_w\n        coord_w_x = np.array([x_w])\n        coord_w_y = np.array([y_w])\n        coord_w_z = np.array([z_w])\n        l = 1\n\n    if crc <= R_w * R_w:  # para ser circular de raio 2\n        coord_w_x_s = np.array([x_w])\n        coord_w_y_s = np.array([y_w])\n        coord_w_z_s = np.array([z_w])\n        coord_w_x = np.concatenate((coord_w_x, coord_w_x_s), axis=0)\n        coord_w_y = np.concatenate((coord_w_y, coord_w_y_s), axis=0)\n        coord_w_z = np.concatenate((coord_w_z, coord_w_z_s), axis=0)\n\n    coord_w = np.array([coord_w_x, coord_w_y, coord_w_z])",
      "metadata": {},
      "execution_count": null,
      "outputs": []
    },
    {
      "cell_type": "code",
      "source": "#gerar a amostragem\nn_ele_s = len(coord_s)\n\nn_ele_t = len(coord_t)\n\nn_ele_w = len(coord_w)\n\ndelta_a = np.array([i/num_pon + 0.01 for i in range(num_pon)])\n\na_eff_s = np.exp(-(coord_s[0]**2 + coord_s[1]**2)/(W0_s * W0_s))  #vetor potencial do short beam\n\na_eff_t = 1 / np.sqrt(1 + (coord_t * coord_t)/(z_r_t*z_r_t))  #vetor potencial do thin beam\n\n\na_eff_w = np.exp((-(coord_w[0]*coord_w[0] + coord_w[1] * coord_w[1]))/(1 + (coord_w[2] * coord_w[2])/(z_r_w*z_r_w))/(W0_w * W0_w))/np.sqrt(1 + (coord_w[2] * coord_w[2])/(z_r_w*z_r_w)) #vetor potencial do wide beam",
      "metadata": {},
      "execution_count": null,
      "outputs": []
    },
    {
      "cell_type": "code",
      "source": "#gerar curvas teoricas\n\nfunc_t = np.zeros(num_pon)\n\nfunc_w = np.zeros(num_pon)\n\nfunc_s = (((n_ele_s * W0_s * W0_s)/(delta_a * R_s * R_s))*((delta_a)**((W0_s * W0_s)/(R_s * R_s))))  #função analítica do short beam\n\nfor i in tqdm(range(num_pon)):\n    if delta_a[i] > a_z_t:\n        func_t[i] = 10**-4 * (4 * n_ele_t * z_r_t * (1/L_t) * (1 / ((delta_a[i]) * (delta_a[i]))) * (1 / np.sqrt(1 - (delta_a[i]) * (delta_a[i]))))   #função analítica do short beam\n    else:\n        func_t[i] = 0\n\n\nfor i in tqdm(range(num_pon)):\n    if delta_a[i] > a_z_w:\n        func_w[i] = 0.035 * (4 * np.pi * W0_w * W0_w * z_r_w) / (3 * delta_a[i] * delta_a[i]) * np.sqrt(1 - delta_a[i] * delta_a[i]) * (2 + (1 / (delta_a[i] * delta_a[i])))  #função analítica do wide beam\n    else:\n        func_w[i] = 0.035 * (4 * np.pi * W0_w * W0_w * z_r_w * L_w) / (4 * delta_a[i] * z_r_w) * (1 + (L_w * L_w)/(16 * z_r_w))",
      "metadata": {},
      "execution_count": null,
      "outputs": []
    },
    {
      "cell_type": "code",
      "source": "figure, axis = plt.subplots(3, 1)\n\nfigure.suptitle('Particle Distribution for Different Beams')\n\nfigure.tight_layout(pad=1.5)\n\naxis[0].set_xlim([0, 1])\naxis[1].set_xlim([0, 1])\naxis[2].set_xlim([0, 1])\n\naxis[0].set_xticks([0, 0.25, 0.5, 0.75, 1])\n\naxis[1].set_xticks([0, 0.25, 0.5, 0.75, 1])\n\naxis[2].set_xticks([0, 0.25, 0.5, 0.75, 1])\n\naxis[0].hist(a_eff_s, 100, density=True, facecolor='b', alpha=0.75) #histograma do short beam\n\naxis[1].hist(a_eff_t, 100, density=True, facecolor='r', alpha=0.75) #histograma do thin beam\n\naxis[2].hist(a_eff_w, 100, density=True, facecolor='g', alpha=0.75) #histograma do wide beam\n\naxis[0].set_title('Short beam')\naxis[1].set_title('Thin beam')\naxis[2].set_title('Wide beam')\naxis[0].plot(delta_a, func_s)\naxis[1].plot(delta_a, func_t)\naxis[2].plot(delta_a, func_w)\naxis[0].set_yscale('log')\naxis[1].set_yscale('log')\naxis[2].set_yscale('log')\n\nplt.show()",
      "metadata": {},
      "execution_count": null,
      "outputs": []
    }
  ]
}