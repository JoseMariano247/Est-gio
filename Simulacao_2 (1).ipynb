{
  "metadata": {
    "language_info": {
      "codemirror_mode": {
        "name": "python",
        "version": 3
      },
      "file_extension": ".py",
      "mimetype": "text/x-python",
      "name": "python",
      "nbconvert_exporter": "python",
      "pygments_lexer": "ipython3",
      "version": "3.8"
    },
    "kernelspec": {
      "name": "python",
      "display_name": "Python (Pyodide)",
      "language": "python"
    }
  },
  "nbformat_minor": 4,
  "nbformat": 4,
  "cells": [
    {
      "cell_type": "code",
      "source": "import numpy as np\nimport matplotlib.pyplot as plt\nfrom numpy import pi\nfrom scipy import special as sp\nimport scipy.integrate as integrate\nfrom scipy import optimize\nrng = np.random.default_rng()\n\n#variaveis e constantes\n\nfine_strc_const = 1/137          #[no units] fine-structure constant\nmass_electron = 1.67*10**(-27)   #[Kg] massa do eletrao\nh_bar = 6.626*10**(-34)/(2*pi)   #[J.s] constante de planck barra\nspd_light = 3 * 10**8            #[m/s] velocidade da luz no vazio\nlrtz_factor = 5                  #[no units] fator de lorentz\nomega = 10**5                    #[1/s] frequencia do fotao\nnum_pon = 10**5                  #numero de pontos\nn_bins = 10**2                   #numero de bins\nn_gra = 4                        #numero de graficos\n\n#calculo do primeiro conjunto de graficos\n\nfor i in range(n_gra):\n    X_e = 0.5 * 10**i\n\n    X_gamma = np.linspace(0.000001, X_e * 0.9999, num_pon)\n\n    Epsilon = X_gamma / X_e\n    \n    #esta funcao de integracao foi criada para funcionar como a funcao a ser subtraida na expressao analitica. Contudo, aumenta em bastante\n    #o tempo de processamento e, portanto, decidi nao implemta-la. Os gráficos continuam a ser bastante semelhantes aos pretendidos\n\n    #def integration(x1):\n     #   arr = np.array([integrate.quad(lambda x: sp.kv(1 / 3, x), value, np.Inf)[0] for value in x1])\n      #  return arr\n\n    def d2P_dtdX(x1):   #funcao analitica nao normalizada\n        X_tilde = 2 * x1 / (3 * X_e * (1 - x1))\n        return x1*X_e*fine_strc_const*mass_electron*spd_light**2/(np.sqrt(3)*pi*h_bar*lrtz_factor*X_e)*((1-x1+1/(1-x1))*sp.kv(2/3, X_tilde))\n\n    N_d2P_dtdX = d2P_dtdX(Epsilon)\n\n    integ = integrate.trapz(N_d2P_dtdX, Epsilon)  #integral da funcao analitica\n    N_d2P_dtdX /= integ\n\n    def d2P_dtdX_norm(x1):  #funcao analitica normalizada\n        X_tilde = 2 * x1 / (3 * X_e * (1 - x1))\n        return (x1 * X_e * fine_strc_const * mass_electron * spd_light ** 2 / (np.sqrt(3) * pi * h_bar * lrtz_factor * X_e) * ((1 - x1 + 1 / (1 - x1)) * sp.kv(2 / 3, X_tilde)))/integ\n\n    plt.plot(Epsilon, N_d2P_dtdX)  #grafico da expressao analitica\n    \n    #inverse transform sampling method\n    \n    def dP_dt(x1):   #CDF\n        return integrate.quad(lambda x: d2P_dtdX_norm(x), 0, x1)[0]\n        \n    #metodo para inverter a funcao\n    \n    def dP_dt_inverse_aux(y, x):\n        return dP_dt(y) - x\n\n\n    def dP_dt_inverse(x):\n        return optimize.bisect(dP_dt_inverse_aux, 0.0000001, 0.999999, args=(x))\n\n\n    dP_dt_ICDF = np.array([dP_dt_inverse(x) for x in Epsilon]) #IDCF\n\n    n_0, bins_0, patches_0 = plt.hist(dP_dt_ICDF, n_bins, density=True, \n                                      facecolor='r', alpha=0.75)     #histograma da ICDF\n\n    #rejection method\n    \n    i = 0\n\n    max_func = np.max(N_d2P_dtdX)       #maximo da funcao analitica\n    d2P_dtdX_Rej = np.zeros(num_pon)\n    while (i < num_pon):\n        x = rng.random()\n        y = rng.random()\n        if (y < d2P_dtdX_norm(x) / max_func):\n            d2P_dtdX_Rej[i] = x              #distribuicao gerada pelo rejection method\n            i += 1\n    n_1, bins_1, patches_1 = plt.hist(d2P_dtdX_Rej, n_bins, density=True,\n                                      facecolor='r', alpha=0.75)          #histograma da funcao gerada pelo rejection method\n    \nplt.show()\n\n#calculo do segundo conjunto de graficos\n\nfor i in range(n_gra):\n    X_gamma = 0.5 * 10 ** i\n    X_e = np.linspace(0.000001, X_gamma * 0.9999, num_pon)\n\n    Epsilon = X_e / X_gamma\n\n    def d2P_dtdXe(x1):  #segunda funcao analitica nao normalizada\n        X_tilde = 2 / (3 * X_gamma * (1 - x1) * x1)\n        return fine_strc_const*mass_electron**2*spd_light**4/(np.sqrt(3)*pi*h_bar*omega*X_gamma)*((x1/(1-x1) + ((1-x1)/x1))*sp.kv(2/3, X_tilde))\n\n    N_d2P_dtdXe = d2P_dtdXe(Epsilon)\n\n    integ = integrate.trapz(N_d2P_dtdXe, Epsilon)  #integral da segunda funcao analitica\n    N_d2P_dtdXe /= integ\n\n    def d2P_dtdXe_norm(x1):   #segunda funcao analitica normalizada\n        X_tilde = 2 / (3 * X_gamma * (1 - x1) * x1)\n        return fine_strc_const * mass_electron ** 2 * spd_light ** 4 / (np.sqrt(3) * pi * h_bar * omega * X_gamma) * ((x1 / (1 - x1) + ((1 - x1) / x1)) * sp.kv(2 / 3,X_tilde))/integ\n\n    plt.plot(Epsilon, N_d2P_dtdXe)\n    \n    #inverse transform sampling method\n    \n    def dP_dte(x1):     #segunda CDF\n        return integrate.quad(lambda x: d2P_dtdXe_norm(x), 0, x1)[0]\n\n    \n    #metodo de invertar a funcao\n    \n    def dP_dte_inverse_aux(y, x):\n        return dP_dte(y) - x\n\n    \n\n    def dP_dte_inverse(x):\n        return optimize.bisect(dP_dte_inverse_aux, 0.0000001, 0.999999, args=(x))\n\n    \n    dP_dte_ICDF = np.array([dP_dte_inverse(x) for x in Epsilon])  #ICDF\n\n    \n    n_3, bins_3, patches_3 = plt.hist(dP_dte_ICDF, n_bins, density=True,\n                                      facecolor='b', alpha=0.75)      #histograma da ICDF\n    \n    #rejection method\n    \n    i = 0\n\n    max_func = np.max(N_d2P_dtdXe)         #maximo da funcao analitica\n    d2P_dtdXe_Rej = np.zeros(num_pon)\n    while (i < num_pon):\n        x = rng.random()\n        y = rng.random()\n        if (y < d2P_dtdXe_norm(x) / max_func):\n            d2P_dtdXe_Rej[i] = x               #funcao gerada pelo rejection method\n            i += 1\n    n_2, bins_2, patches_2 = plt.hist(d2P_dtdXe_Rej, n_bins, density=True,\n                                      facecolor='b', alpha=0.75)         #histograma da funcao gerada pelo rejection method\n    \nplt.show()",
      "metadata": {
        "trusted": true
      },
      "execution_count": null,
      "outputs": []
    }
  ]
}