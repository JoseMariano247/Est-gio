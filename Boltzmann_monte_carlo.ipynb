{
  "metadata": {
    "language_info": {
      "codemirror_mode": {
        "name": "python",
        "version": 3
      },
      "file_extension": ".py",
      "mimetype": "text/x-python",
      "name": "python",
      "nbconvert_exporter": "python",
      "pygments_lexer": "ipython3",
      "version": "3.8"
    },
    "kernelspec": {
      "name": "python",
      "display_name": "Python (Pyodide)",
      "language": "python"
    }
  },
  "nbformat_minor": 4,
  "nbformat": 4,
  "cells": [
    {
      "cell_type": "code",
      "source": "import numpy as np\nimport matplotlib.pyplot as plt\nfrom numpy import pi\nfrom scipy import special as sp\nimport scipy.integrate as integrate\nfrom scipy.interpolate import CubicSpline\nfrom tqdm import tqdm\nfrom scipy.constants import fine_structure, speed_of_light, electron_mass, elementary_charge, hbar, epsilon_0\nfrom scipy import optimize\n\nrng = np.random.default_rng()",
      "metadata": {},
      "execution_count": null,
      "outputs": []
    },
    {
      "cell_type": "code",
      "source": "#variáveis e constantes\nelectron_radius = elementary_charge**2/(4*pi*epsilon_0*electron_mass*speed_of_light**2)\nnum_pon = 10                                                    #número de pontos\nmean_ene = 1800                                                    #energia média inicial\nstd_div = 90                                                       #desvio padrão\nmag_field = np.array([2.5*10**6, 2.5*10**5, 2.5*10**4, 2.5*10**3]) #[T] intensidade do campo magnético\nchi_0 = 1                                                          #valor de chi máximo\ntau_e = hbar/(speed_of_light**2*electron_mass)                     #[s] time it takes for light to travel across the electron radius electron_radius/speed_of_light#\nn_bins = 5                                                       #número de bins do histograma\nt_end = np.array([3, 5, 20, 20])                                   #tempos finais\nt_steps = 100                                                      #numero de steps",
      "metadata": {},
      "execution_count": null,
      "outputs": []
    },
    {
      "cell_type": "code",
      "source": "#valores de gamma\ngamma_glob = mean_ene + std_div*rng.standard_normal(num_pon)\n\n#funcao para determinar o racio entre gamma e chi\ndef cnst_prop_2(mag):\n    return mag/(4.5*10**(9))\n\ndef bessel_integral(v):\n    return integrate.quad(lambda x: sp.kv(5/3, x), v, np.Inf)[0]\n\ndef G_tilde_int(chi, epsilon):\n    v = 2*epsilon/(3*chi*(1-epsilon))\n    int_smth = lambda v1, epsilon1, chi1: np.sqrt(3)/(2*pi)*epsilon1*(integrate.quad(lambda x: sp.kv(5/3, x), v1, np.Inf)[0] + 1.5*epsilon1*chi1*v1*sp.kv(2/3, v1))\n    vec_int = np.vectorize(int_smth)\n    return vec_int(v, epsilon, chi)\n\n#determinar o rate de emissao de fotoes\ndef dN_dt(gamma, mag):\n    minimo = np.min(gamma)\n    omega_c = elementary_charge * mag / (electron_mass * mean_ene)\n    int_smth_0 = lambda x, gamma1: G_tilde_int((gamma1*cnst_prop_2(mag)), x/gamma1)/(gamma1*x)\n    int_smth = lambda gamma1: (2/3) * fine_structure/tau_e/omega_c*integrate.quad(int_smth_0, 0, minimo, args=(gamma1))[0]\n    vec_int = np.vectorize(int_smth)\n    return vec_int(gamma)\n\ndef integration(x1):\n    return integrate.quad(lambda x: sp.kv(1 / 3, x), x1, np.Inf)[0]\n\nchi_int = np.linspace(0, 1000, int(num_pon)) #chi_int = np.linspace(0, 1000, int(num_pon/10))\n\nR = np.array([integration(x) for x in chi_int])\n\nbessel_1_3_int = CubicSpline(chi_int, R)\n\n#funcao de probabilidade de emissao de um fotao por um certo eletrao num dado intervalo de tempo\ndef d2P_dtdX(epsilon, mag, gamma):  # funcao analitica nao normalizada de compton scattering\n    X_e = cnst_prop_2(mag) * gamma\n    X_tilde = 2 * epsilon / (3 * X_e * (1 - epsilon))\n    return 1/X_e * ((1 - epsilon + 1 / (1 - epsilon)) * sp.kv(2 / 3, X_tilde) - bessel_1_3_int(X_tilde))\n\n#funcao acima normalizada\ndef d2P_dtdX_norm(epsilon, mag, gamma, integ):\n    X_e = cnst_prop_2(mag) * gamma\n    X_tilde = 2 * epsilon / (3 * X_e * (1 - epsilon))\n    return (1 / X_e * ((1 - epsilon + 1 / (1 - epsilon)) * sp.kv(2 / 3,X_tilde) - bessel_1_3_int(X_tilde)))/integ\n\nint_arr = np.linspace(0.0001, 9.999, num_pon)\n\n#metodo de inverse transform sampling\ndef dP_dt(mag, gamma, integ, point):  # CDF\n    return integrate.quad(lambda x: d2P_dtdX_norm(x, mag, gamma, integ), 0, point)[0]\n\ndef dP_dt_inverse_aux(y, x, mag, gamma, integ):\n    return dP_dt(mag, gamma, integ, y) - x\n\ndef dP_dt_inverse(x, mag, gamma, integ):\n    return optimize.bisect(dP_dt_inverse_aux, 0.0000001, 0.999999, args=(x, mag, gamma, integ))\n",
      "metadata": {},
      "execution_count": null,
      "outputs": []
    },
    {
      "cell_type": "code",
      "source": "for i in tqdm(range(len(mag_field))):\n\n    time_step = t_end[i]/t_steps\n\n    gamma = np.array([gamma_glob, gamma_glob, gamma_glob, gamma_glob])\n\n    gamma_2 = np.array([np.zeros(num_pon), np.zeros(num_pon), np.zeros(num_pon), np.zeros(num_pon)])\n\n    for k in tqdm(range(t_steps)):\n        \n        #probilidade de um fotao libertar um fotao\n        prob = dN_dt(gamma[i], mag_field[i])*time_step\n\n        for j in range(num_pon):\n\n            rnd_num_1 = rng.random()\n            \n            #verificar se o fotao é libertado\n            if prob[j] < rnd_num_1:\n\n                N_d2P_dt_dX_arr = np.array([d2P_dtdX(int_arr, mag_field[i], gamma[i][j])])\n\n                integ = np.trapz(int_arr, N_d2P_dt_dX_arr)\n\n                x_uniform = np.linspace(0.000001, 0.9999, 10)\n\n                dP_dt_ICDF = np.array([dP_dt_inverse(x, mag_field[i], gamma[i][j], integ) for x in x_uniform])  # IDCF\n\n                func = CubicSpline(x_uniform, dP_dt_ICDF)\n\n                uni_rnd = rng.random()\n                \n                #subtrair a energia do fotão libertado\n                gamma[i][j] *= (1 - func(uni_rnd))\n\n        if (k == int(t_steps/2 - 1)):\n            gamma_2[i] = gamma[i]",
      "metadata": {},
      "execution_count": null,
      "outputs": []
    },
    {
      "cell_type": "code",
      "source": "#gerar os gráficos\nfig, axis = plt.subplots(2, 2)\n\nfig.suptitle('Distribution Evolution of Electron Beams')\n\nfig.tight_layout(pad=2.8)\n\nfor i in tqdm(range(len(mag_field))):\n    if (i == 3):\n        # histograma em t=0\n        axis[0, 0].hist(gamma_glob / mean_ene, n_bins, density=True,\n                        color='red', alpha=0.5,\n                        histtype='bar')\n\n        # histograma em t = tend/2\n        axis[0, 0].hist(gamma_2 / mean_ene, n_bins, density=True,\n                        color='green', alpha=0.5,\n                        histtype='bar')\n\n        # histograma em t = tend\n        axis[0, 0].hist(gamma / mean_ene, n_bins, density=True,\n                        color='blue', alpha=0.5,\n                        histtype='bar')\n\n    if (i == 2):\n        # histograma em t=0\n        axis[0, 1].hist(gamma_glob / mean_ene, n_bins, density=True,\n                        color='red', alpha=0.5,\n                        histtype='bar')\n\n        # histograma em t = tend/2\n        axis[0, 1].hist(\n            gamma_2 / mean_ene,\n            n_bins, density=True,\n            color='green', alpha=0.5,\n            histtype='bar')\n\n        # histograma em t = tend\n        axis[0, 1].hist(\n            gamma / mean_ene,\n            n_bins, density=True,\n            color='blue', alpha=0.5,\n            histtype='bar')\n\n    if (i == 1):\n        # histograma em t=0\n        axis[1, 0].hist(gamma_glob / mean_ene, n_bins, density=True,\n                        color='red', alpha=0.5,\n                        histtype='bar')\n\n        # histograma em t = tend/2\n        axis[1, 0].hist(\n            gamma_2 / mean_ene,\n            n_bins, density=True,\n            color='green', alpha=0.5,\n            histtype='bar')\n\n        # histograma em t = tend\n        axis[1, 0].hist(\n            gamma / mean_ene,\n            n_bins, density=True,\n            color='blue', alpha=0.5,\n            histtype='bar')\n\n    if (i == 0):\n        # histograma em t=0\n        axis[1, 1].hist(gamma_glob / mean_ene, n_bins, density=True,\n                        color='red', alpha=0.5,\n                        histtype='bar')\n\n        # histograma em t = tend/2\n        axis[1, 1].hist(\n            gamma_2 / mean_ene,\n            n_bins, density=True,\n            color='green', alpha=0.5,\n            histtype='bar')\n\n        # histograma em t = tend\n        axis[1, 1].hist(\n            gamma / mean_ene,\n            n_bins, density=True,\n            color='blue', alpha=0.5,\n            histtype='bar')\n\nplt.show()",
      "metadata": {},
      "execution_count": null,
      "outputs": []
    }
  ]
}