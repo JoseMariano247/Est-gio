{
  "metadata": {
    "language_info": {
      "codemirror_mode": {
        "name": "python",
        "version": 3
      },
      "file_extension": ".py",
      "mimetype": "text/x-python",
      "name": "python",
      "nbconvert_exporter": "python",
      "pygments_lexer": "ipython3",
      "version": "3.8"
    },
    "kernelspec": {
      "name": "python",
      "display_name": "Python (Pyodide)",
      "language": "python"
    }
  },
  "nbformat_minor": 4,
  "nbformat": 4,
  "cells": [
    {
      "cell_type": "code",
      "source": "import numpy as np\nimport matplotlib.pyplot as plt\nfrom numpy import pi\nfrom scipy import special as sp\nimport scipy.integrate as integrate\nfrom scipy.interpolate import CubicSpline, interp2d\nfrom tqdm import tqdm\nfrom scipy.constants import fine_structure, speed_of_light, electron_mass, elementary_charge, hbar, epsilon_0\nfrom scipy import optimize\n\nrng = np.random.default_rng()",
      "metadata": {},
      "execution_count": null,
      "outputs": []
    },
    {
      "cell_type": "code",
      "source": "#variáveis e constantes\nelectron_radius = elementary_charge**2/(4*pi*epsilon_0*electron_mass*speed_of_light**2)\nnum_pon = 100                                                    #número de pontos\nmean_ene = 1800                                                    #energia média inicial\nstd_div = 90                                                       #desvio padrão\nmag_field = 2.5*10**6 #[T] intensidade do campo magnético\nchi_0 = 1                                                          #valor de chi máximo\ntau_e = hbar/(speed_of_light**2*electron_mass)                     #[s] time it takes for light to travel across the electron radius electron_radius/speed_of_light#\nn_bins = 5                                                       #número de bins do histograma\nt_end = 3                                   #tempos finais\nt_steps = 100                                                      #numero de steps\n\n#valores de gamma\ngamma_glob = mean_ene + std_div*rng.standard_normal(num_pon)",
      "metadata": {},
      "execution_count": null,
      "outputs": []
    },
    {
      "cell_type": "code",
      "source": "def cnst_prop_2(mag):\n    return mag/(4.5*10**(9))\n\ndef bessel_integral(v):\n    return integrate.quad(lambda x: sp.kv(5/3, x), v, np.Inf)[0]\n\n#equacao 3.83 de 'Classical and Quantum Description of Plasma and Radiation in Strong Fields' de Fabien Niel\ndef G_tilde_int(chi, epsilon):\n    v = 2 * epsilon / (3 * chi * (1 - epsilon))\n    return np.sqrt(3) / (2 * pi) * epsilon * (\n                integrate.quad(lambda x: sp.kv(5 / 3, x), v, np.Inf)[\n                    0] + 1.5 * epsilon * chi * v * sp.kv(2 / 3, v))\n\nG_tilde_int_vec_aux = lambda chi1, epsilon1: G_tilde_int(chi1, epsilon1)\n\nG_tilde_int_vec = np.vectorize(G_tilde_int_vec_aux)\n\nepsilon_uni = np.linspace(0.0001, 0.9999, 10)\n\nchi_uniform = np.linspace(0.00001, 10, 10)\n\nepsilon_uni_2d, chi_uniform_2d = np.meshgrid(epsilon_uni, chi_uniform)\n\nG_tilde_int_vec_aux_2 = G_tilde_int_vec(chi_uniform_2d, epsilon_uni_2d)\n\nG_tilde_inter = interp2d(chi_uniform_2d, epsilon_uni_2d, G_tilde_int_vec_aux_2, kind='cubic')",
      "metadata": {},
      "execution_count": null,
      "outputs": []
    },
    {
      "cell_type": "code",
      "source": "#equacao 3.88 de 'Classical and Quantum Description of Plasma and Radiation in Strong Fields' de Fabien Niel\ndef dN_dt(gamma):\n    omega_c = elementary_charge * 2.5*10**6 / (electron_mass * mean_ene)\n    return (2 / 3) * fine_structure / tau_e / omega_c * integrate.quad(\n        lambda x: G_tilde_inter((gamma * cnst_prop_2(2.5*10**6)),\n                                  (x / gamma))/(x*gamma), 0, np.Inf)[0]\n\ndef integration(x1):\n    return integrate.quad(lambda x: sp.kv(1 / 3, x), x1, np.Inf)[0]\n\nchi_int = np.linspace(0, 1000, int(num_pon))\n\nR = np.array([integration(x) for x in chi_int])\n\nbessel_1_3_int = CubicSpline(chi_int, R)\n\n#equacao 2.3 de 'Classical and Quantum simulation of Extreme Plasma Physics' de Oscar Amaro\ndef d2P_dtdX(epsilon, gamma):  # funcao analitica nao normalizada de compton scattering\n    X_e = cnst_prop_2(mag_field) * gamma\n    X_tilde = 2 * epsilon / (3 * X_e * (1 - epsilon))\n    return 1/X_e * ((1 - epsilon + 1 / (1 - epsilon)) * sp.kv(2 / 3, X_tilde) - bessel_1_3_int(X_tilde))\n\ndef dP_dt(gamma, point):  # CDF\n    return integrate.quad(lambda x: d2P_dtdX(x, gamma), 0, point)[0]\n\ndef dP_dt_inverse_aux(y, x, gamma):\n    return dP_dt(gamma, y) - x\n\ndef dP_dt_inverse(x, gamma):\n    return optimize.bisect(dP_dt_inverse_aux, 0, 1, args=(x, gamma))\n\nx_uniform = np.linspace(0.000001, 0.9999, 10)\n\ngamma_uni = np.linspace(1, 1900, 10)\n\nchi_uni_2 = np.linspace(0.0001, 1, 10)\n\ndP_dt_inverse_vec_aux = lambda x1, gamma1: dP_dt_inverse(x1, gamma1)\n\ndP_dt_inverse_vec = np.vectorize(dP_dt_inverse_vec_aux)\n\ngamma_uni_2d, chi_uni_2d = np.meshgrid(gamma_uni, chi_uni_2)\n\ndP_dt_ICDF = dP_dt_inverse_vec(gamma_uni_2d, chi_uni_2d)\n\ndP_dt_ICDF_inter = interp2d(x_uniform, chi_uni_2, dP_dt_ICDF, kind='cubic')\n\ntime_step = t_end/t_steps\n\ngamma = np.array(gamma_glob)\n\ngamma_2 = np.zeros(num_pon)\n\ndN_dt_vec_aux = lambda gamma1: dN_dt(gamma1)\n\ndN_dt_vec = np.vectorize(dN_dt_vec_aux)\n\ndN_dt_inter = CubicSpline(gamma_uni, dN_dt_vec(gamma_uni))",
      "metadata": {},
      "execution_count": null,
      "outputs": []
    },
    {
      "cell_type": "code",
      "source": "for k in tqdm(range(t_steps)):\n\n    prob = dN_dt_inter(gamma)*time_step\n\n    rnd_num = rng.random(num_pon)\n\n    probability = np.greater(prob, rnd_num)\n\n    probability = probability.astype(int)\n\n    uni_rnd = rng.random(num_pon)\n\n    gamma *= (1 - dP_dt_ICDF_inter(uni_rnd, gamma)*probability)\n\n    if (k == int(t_steps/2 - 1)):\n        gamma_2 = gamma",
      "metadata": {},
      "execution_count": null,
      "outputs": []
    },
    {
      "cell_type": "code",
      "source": "fig, axis = plt.subplots(2, 2)\n\nfig.suptitle('Distribution Evolution of Electron Beams')\n\nfig.tight_layout(pad=2.8)\n\naxis[0, 0].set_yscale('log')\n\naxis[0, 0].set_xlim([0, 1.25])\naxis[0, 0].set_ylim([0.01, 100])\n\naxis[0, 0].set_title('$\\chi_{0}=10^{-3}$')\n\naxis[0, 0].set_xticks([0, 0.25, 0.5, 0.75, 1, 1.25])\n\naxis[0, 0].set_xlabel('${\\gamma}/{\\gamma_0}$')\naxis[0, 0].set_ylabel('$f_e(\\gamma)$')\n\naxis[0, 0].legend(loc=2, prop={'size': 12})\n\naxis[0, 1].set_yscale('log')\n\naxis[0, 1].set_xlim([0, 1.25])\naxis[0, 1].set_ylim([0.01, 100])\n\naxis[0, 1].set_xticks([0, 0.25, 0.5, 0.75, 1, 1.25])\n\naxis[0, 1].set_title('$\\chi_{0}=10^{-2}$')\n\naxis[0, 1].set_xlabel('${\\gamma}/{\\gamma_0}$')\naxis[0, 1].set_ylabel('$f_e(\\gamma)$')\n\naxis[0, 1].legend(loc=2, prop={'size': 12})\n\naxis[1, 0].set_yscale('log')\n\naxis[1, 0].set_xlim([0, 1.25])\naxis[1, 0].set_ylim([0.01, 100])\n\naxis[1, 0].set_xticks([0, 0.25, 0.5, 0.75, 1, 1.25])\n\naxis[1, 0].set_title('$\\chi_{0}=10^{-1}$')\n\naxis[1, 0].set_xlabel('${\\gamma}/{\\gamma_0}$')\naxis[1, 0].set_ylabel('$f_e(\\gamma)$')\n\naxis[1, 0].legend(loc=2, prop={'size': 12})\n\naxis[1, 1].set_yscale('log')\n\naxis[1, 1].set_xlim([0, 1.25])\naxis[1, 1].set_ylim([0.01, 100])\n\naxis[1, 1].set_xticks([0, 0.25, 0.5, 0.75, 1, 1.25])\n\naxis[1, 1].set_title('$\\chi_{0}=1$')\n\naxis[1, 1].set_xlabel('${\\gamma}/{\\gamma_0}$')\naxis[1, 1].set_ylabel('$f_e(\\gamma)$')\n\naxis[1, 1].legend(loc=2, prop={'size': 12})\n\ni=0\nif (i == 3):\n    # histograma em t=0\n    axis[0, 0].hist(gamma_glob / mean_ene, n_bins, density=True,\n                    color='red', alpha=0.5,\n                    histtype='bar')\n\n    # histograma em t = tend/2\n    axis[0, 0].hist(gamma_2[0] / mean_ene, n_bins, density=True,\n                    color='green', alpha=0.5,\n                    histtype='bar')\n\n    # histograma em t = tend\n    axis[0, 0].hist(gamma[0] / mean_ene, n_bins, density=True,\n                    color='blue', alpha=0.5,\n                    histtype='bar')\n\nif (i == 2):\n    # histograma em t=0\n    axis[0, 1].hist(gamma_glob / mean_ene, n_bins, density=True,\n                    color='red', alpha=0.5,\n                    histtype='bar')\n\n    # histograma em t = tend/2\n    axis[0, 1].hist(\n        gamma_2[1] / mean_ene,\n        n_bins, density=True,\n        color='green', alpha=0.5,\n        histtype='bar')\n\n    # histograma em t = tend\n    axis[0, 1].hist(\n        gamma[1] / mean_ene,\n        n_bins, density=True,\n        color='blue', alpha=0.5,\n        histtype='bar')\n\nif (i == 1):\n    # histograma em t=0\n    axis[1, 0].hist(gamma_glob / mean_ene, n_bins, density=True,\n                    color='red', alpha=0.5,\n                    histtype='bar')\n\n    # histograma em t = tend/2\n    axis[1, 0].hist(\n        gamma_2[2] / mean_ene,\n        n_bins, density=True,\n        color='green', alpha=0.5,\n        histtype='bar')\n\n    # histograma em t = tend\n    axis[1, 0].hist(\n        gamma[2] / mean_ene,\n        n_bins, density=True,\n        color='blue', alpha=0.5,\n        histtype='bar')\n\nif (i == 0):\n    # histograma em t=0\n    axis[1, 1].hist(gamma_glob / mean_ene, n_bins, density=True,\n                    color='red', alpha=0.5,\n                    histtype='bar')\n\n    # histograma em t = tend/2\n    axis[1, 1].hist(\n        gamma_2[3] / mean_ene,\n        n_bins, density=True,\n        color='green', alpha=0.5,\n        histtype='bar')\n\n    # histograma em t = tend\n    axis[1, 1].hist(\n        gamma[3] / mean_ene,\n        n_bins, density=True,\n        color='blue', alpha=0.5,\n        histtype='bar')\n\nplt.show()\n",
      "metadata": {},
      "execution_count": null,
      "outputs": []
    }
  ]
}