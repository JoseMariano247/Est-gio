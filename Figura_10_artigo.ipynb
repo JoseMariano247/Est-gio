{
  "metadata": {
    "language_info": {
      "codemirror_mode": {
        "name": "python",
        "version": 3
      },
      "file_extension": ".py",
      "mimetype": "text/x-python",
      "name": "python",
      "nbconvert_exporter": "python",
      "pygments_lexer": "ipython3",
      "version": "3.8"
    },
    "kernelspec": {
      "name": "python",
      "display_name": "Python (Pyodide)",
      "language": "python"
    }
  },
  "nbformat_minor": 4,
  "nbformat": 4,
  "cells": [
    {
      "cell_type": "code",
      "source": "import numpy as np\nimport matplotlib.pyplot as plt\nfrom tqdm import tqdm\nplt.style.use(\"style.txt\")",
      "metadata": {
        "trusted": true
      },
      "execution_count": 1,
      "outputs": [
        {
          "ename": "<class 'OSError'>",
          "evalue": "'style.txt' not found in the style library and input is not a valid URL or path; see `style.available` for list of available styles",
          "traceback": [
            "\u001b[0;31m---------------------------------------------------------------------------\u001b[0m",
            "\u001b[0;31mFileNotFoundError\u001b[0m                         Traceback (most recent call last)",
            "File \u001b[0;32m/lib/python3.10/site-packages/matplotlib/style/core.py:127\u001b[0m, in \u001b[0;36muse\u001b[0;34m(style)\u001b[0m\n\u001b[1;32m    126\u001b[0m \u001b[38;5;28;01mtry\u001b[39;00m:\n\u001b[0;32m--> 127\u001b[0m     rc \u001b[38;5;241m=\u001b[39m \u001b[43mrc_params_from_file\u001b[49m\u001b[43m(\u001b[49m\u001b[43mstyle\u001b[49m\u001b[43m,\u001b[49m\u001b[43m \u001b[49m\u001b[43muse_default_template\u001b[49m\u001b[38;5;241;43m=\u001b[39;49m\u001b[38;5;28;43;01mFalse\u001b[39;49;00m\u001b[43m)\u001b[49m\n\u001b[1;32m    128\u001b[0m     _apply_style(rc)\n",
            "File \u001b[0;32m/lib/python3.10/site-packages/matplotlib/__init__.py:852\u001b[0m, in \u001b[0;36mrc_params_from_file\u001b[0;34m(fname, fail_on_error, use_default_template)\u001b[0m\n\u001b[1;32m    838\u001b[0m \u001b[38;5;124;03m\"\"\"\u001b[39;00m\n\u001b[1;32m    839\u001b[0m \u001b[38;5;124;03mConstruct a `RcParams` from file *fname*.\u001b[39;00m\n\u001b[1;32m    840\u001b[0m \n\u001b[0;32m   (...)\u001b[0m\n\u001b[1;32m    850\u001b[0m \u001b[38;5;124;03m    parameters specified in the file. (Useful for updating dicts.)\u001b[39;00m\n\u001b[1;32m    851\u001b[0m \u001b[38;5;124;03m\"\"\"\u001b[39;00m\n\u001b[0;32m--> 852\u001b[0m config_from_file \u001b[38;5;241m=\u001b[39m \u001b[43m_rc_params_in_file\u001b[49m\u001b[43m(\u001b[49m\u001b[43mfname\u001b[49m\u001b[43m,\u001b[49m\u001b[43m \u001b[49m\u001b[43mfail_on_error\u001b[49m\u001b[38;5;241;43m=\u001b[39;49m\u001b[43mfail_on_error\u001b[49m\u001b[43m)\u001b[49m\n\u001b[1;32m    854\u001b[0m \u001b[38;5;28;01mif\u001b[39;00m \u001b[38;5;129;01mnot\u001b[39;00m use_default_template:\n",
            "File \u001b[0;32m/lib/python3.10/site-packages/matplotlib/__init__.py:778\u001b[0m, in \u001b[0;36m_rc_params_in_file\u001b[0;34m(fname, transform, fail_on_error)\u001b[0m\n\u001b[1;32m    777\u001b[0m rc_temp \u001b[38;5;241m=\u001b[39m {}\n\u001b[0;32m--> 778\u001b[0m \u001b[38;5;28;01mwith\u001b[39;00m _open_file_or_url(fname) \u001b[38;5;28;01mas\u001b[39;00m fd:\n\u001b[1;32m    779\u001b[0m     \u001b[38;5;28;01mtry\u001b[39;00m:\n",
            "File \u001b[0;32m/lib/python3.10/contextlib.py:135\u001b[0m, in \u001b[0;36m_GeneratorContextManager.__enter__\u001b[0;34m(self)\u001b[0m\n\u001b[1;32m    134\u001b[0m \u001b[38;5;28;01mtry\u001b[39;00m:\n\u001b[0;32m--> 135\u001b[0m     \u001b[38;5;28;01mreturn\u001b[39;00m \u001b[38;5;28;43mnext\u001b[39;49m\u001b[43m(\u001b[49m\u001b[38;5;28;43mself\u001b[39;49m\u001b[38;5;241;43m.\u001b[39;49m\u001b[43mgen\u001b[49m\u001b[43m)\u001b[49m\n\u001b[1;32m    136\u001b[0m \u001b[38;5;28;01mexcept\u001b[39;00m \u001b[38;5;167;01mStopIteration\u001b[39;00m:\n",
            "File \u001b[0;32m/lib/python3.10/site-packages/matplotlib/__init__.py:755\u001b[0m, in \u001b[0;36m_open_file_or_url\u001b[0;34m(fname)\u001b[0m\n\u001b[1;32m    754\u001b[0m     encoding \u001b[38;5;241m=\u001b[39m \u001b[38;5;124m\"\u001b[39m\u001b[38;5;124mutf-8\u001b[39m\u001b[38;5;124m\"\u001b[39m\n\u001b[0;32m--> 755\u001b[0m \u001b[38;5;28;01mwith\u001b[39;00m \u001b[38;5;28;43mopen\u001b[39;49m\u001b[43m(\u001b[49m\u001b[43mfname\u001b[49m\u001b[43m,\u001b[49m\u001b[43m \u001b[49m\u001b[43mencoding\u001b[49m\u001b[38;5;241;43m=\u001b[39;49m\u001b[43mencoding\u001b[49m\u001b[43m)\u001b[49m \u001b[38;5;28;01mas\u001b[39;00m f:\n\u001b[1;32m    756\u001b[0m     \u001b[38;5;28;01myield\u001b[39;00m f\n",
            "\u001b[0;31mFileNotFoundError\u001b[0m: [Errno 44] No such file or directory: 'style.txt'",
            "\nThe above exception was the direct cause of the following exception:\n",
            "\u001b[0;31mOSError\u001b[0m                                   Traceback (most recent call last)",
            "Cell \u001b[0;32mIn [1], line 4\u001b[0m\n\u001b[1;32m      2\u001b[0m \u001b[38;5;28;01mimport\u001b[39;00m \u001b[38;5;21;01mmatplotlib\u001b[39;00m\u001b[38;5;21;01m.\u001b[39;00m\u001b[38;5;21;01mpyplot\u001b[39;00m \u001b[38;5;28;01mas\u001b[39;00m \u001b[38;5;21;01mplt\u001b[39;00m\n\u001b[1;32m      3\u001b[0m \u001b[38;5;28;01mfrom\u001b[39;00m \u001b[38;5;21;01mtqdm\u001b[39;00m \u001b[38;5;28;01mimport\u001b[39;00m tqdm\n\u001b[0;32m----> 4\u001b[0m \u001b[43mplt\u001b[49m\u001b[38;5;241;43m.\u001b[39;49m\u001b[43mstyle\u001b[49m\u001b[38;5;241;43m.\u001b[39;49m\u001b[43muse\u001b[49m\u001b[43m(\u001b[49m\u001b[38;5;124;43m\"\u001b[39;49m\u001b[38;5;124;43mstyle.txt\u001b[39;49m\u001b[38;5;124;43m\"\u001b[39;49m\u001b[43m)\u001b[49m\n",
            "File \u001b[0;32m/lib/python3.10/site-packages/matplotlib/style/core.py:130\u001b[0m, in \u001b[0;36muse\u001b[0;34m(style)\u001b[0m\n\u001b[1;32m    128\u001b[0m     _apply_style(rc)\n\u001b[1;32m    129\u001b[0m \u001b[38;5;28;01mexcept\u001b[39;00m \u001b[38;5;167;01mIOError\u001b[39;00m \u001b[38;5;28;01mas\u001b[39;00m err:\n\u001b[0;32m--> 130\u001b[0m     \u001b[38;5;28;01mraise\u001b[39;00m \u001b[38;5;167;01mIOError\u001b[39;00m(\n\u001b[1;32m    131\u001b[0m         \u001b[38;5;124m\"\u001b[39m\u001b[38;5;132;01m{!r}\u001b[39;00m\u001b[38;5;124m not found in the style library and input is not a \u001b[39m\u001b[38;5;124m\"\u001b[39m\n\u001b[1;32m    132\u001b[0m         \u001b[38;5;124m\"\u001b[39m\u001b[38;5;124mvalid URL or path; see `style.available` for list of \u001b[39m\u001b[38;5;124m\"\u001b[39m\n\u001b[1;32m    133\u001b[0m         \u001b[38;5;124m\"\u001b[39m\u001b[38;5;124mavailable styles\u001b[39m\u001b[38;5;124m\"\u001b[39m\u001b[38;5;241m.\u001b[39mformat(style)) \u001b[38;5;28;01mfrom\u001b[39;00m \u001b[38;5;21;01merr\u001b[39;00m\n",
            "\u001b[0;31mOSError\u001b[0m: 'style.txt' not found in the style library and input is not a valid URL or path; see `style.available` for list of available styles"
          ],
          "output_type": "error"
        }
      ]
    },
    {
      "cell_type": "code",
      "source": "#ler os ficheiros de dados\nt_0 = open(\"t_0.csv\", \"r\")\nt_2_3 = open(\"t_2_3.csv\", \"r\")\nt_1_3 = open(\"t_1_3.csv\", \"r\")\nt_2_2 = open(\"t_2_2.csv\", \"r\")\nt_1_2 = open(\"t_1_2.csv\", \"r\")\nt_2_1 = open(\"t_2_1.csv\", \"r\")\nt_1_1 = open(\"t_1_1.csv\", \"r\")\nt_2_0 = open(\"t_2_0.csv\", \"r\")\nt_1_0 = open(\"t_1_0.csv\", \"r\")",
      "metadata": {
        "trusted": true
      },
      "execution_count": 2,
      "outputs": [
        {
          "ename": "<class 'FileNotFoundError'>",
          "evalue": "[Errno 44] No such file or directory: 't_0.csv'",
          "traceback": [
            "\u001b[0;31m---------------------------------------------------------------------------\u001b[0m",
            "\u001b[0;31mFileNotFoundError\u001b[0m                         Traceback (most recent call last)",
            "Cell \u001b[0;32mIn [2], line 2\u001b[0m\n\u001b[1;32m      1\u001b[0m \u001b[38;5;66;03m#ler os ficheiros de dados\u001b[39;00m\n\u001b[0;32m----> 2\u001b[0m t_0 \u001b[38;5;241m=\u001b[39m \u001b[38;5;28;43mopen\u001b[39;49m\u001b[43m(\u001b[49m\u001b[38;5;124;43m\"\u001b[39;49m\u001b[38;5;124;43mt_0.csv\u001b[39;49m\u001b[38;5;124;43m\"\u001b[39;49m\u001b[43m,\u001b[49m\u001b[43m \u001b[49m\u001b[38;5;124;43m\"\u001b[39;49m\u001b[38;5;124;43mr\u001b[39;49m\u001b[38;5;124;43m\"\u001b[39;49m\u001b[43m)\u001b[49m\n\u001b[1;32m      3\u001b[0m t_2_3 \u001b[38;5;241m=\u001b[39m \u001b[38;5;28mopen\u001b[39m(\u001b[38;5;124m\"\u001b[39m\u001b[38;5;124mt_2_3.csv\u001b[39m\u001b[38;5;124m\"\u001b[39m, \u001b[38;5;124m\"\u001b[39m\u001b[38;5;124mr\u001b[39m\u001b[38;5;124m\"\u001b[39m)\n\u001b[1;32m      4\u001b[0m t_1_3 \u001b[38;5;241m=\u001b[39m \u001b[38;5;28mopen\u001b[39m(\u001b[38;5;124m\"\u001b[39m\u001b[38;5;124mt_1_3.csv\u001b[39m\u001b[38;5;124m\"\u001b[39m, \u001b[38;5;124m\"\u001b[39m\u001b[38;5;124mr\u001b[39m\u001b[38;5;124m\"\u001b[39m)\n",
            "\u001b[0;31mFileNotFoundError\u001b[0m: [Errno 44] No such file or directory: 't_0.csv'"
          ],
          "output_type": "error"
        }
      ]
    },
    {
      "cell_type": "code",
      "source": "#conjunto de dados\npontos_t_0 = np.loadtxt(t_0, delimiter=\",\")     #X_0 = 10e-3, 10e-2, 10e-1, 1; t=0\npontos_t_2_3 = np.loadtxt(t_2_3, delimiter=\",\") #X_0 = 10e-3; t=tend/2\npontos_t_1_3 = np.loadtxt(t_1_3, delimiter=\",\") #X_0 = 10e-3; t=tend\npontos_t_2_2 = np.loadtxt(t_2_2, delimiter=\",\") #X_0 = 10e-2; t=tend/2\npontos_t_1_2 = np.loadtxt(t_1_2, delimiter=\",\") #X_0 = 10e-2; t=tend\npontos_t_2_1 = np.loadtxt(t_2_1, delimiter=\",\") #X_0 = 10e-1; t=tend/2\npontos_t_1_1 = np.loadtxt(t_1_1, delimiter=\",\") #X_0 = 10e-1; t=tend\npontos_t_2_0 = np.loadtxt(t_2_0, delimiter=\",\") #X_0 = 1; t=tend/2\npontos_t_1_0 = np.loadtxt(t_1_0, delimiter=\",\") #X_0 = 1; t=tend\n\nX_t_0=[]\nY_t_0=[]\n\nX_t_2_3=[]\nY_t_2_3=[]\n\nX_t_1_3=[]\nY_t_1_3=[]\n\nX_t_2_2=[]\nY_t_2_2=[]\n\nX_t_1_2=[]\nY_t_1_2=[]\n\nX_t_2_1=[]\nY_t_2_1=[]\n\nX_t_1_1=[]\nY_t_1_1=[]\n\nX_t_2_0=[]\nY_t_2_0=[]\n\nX_t_1_0=[]\nY_t_1_0=[]\n\n#gerar conjunto de dados do eixo x e y, para cada conjunto de dados\n\nfor i in tqdm(pontos_t_0):   #X_0 = 10e-3, 10e-2, 10e-1, 1; t=0\n    X_t_0.append(i[0])\n    Y_t_0.append(i[1])\n\nfor i in tqdm(pontos_t_2_3): #X_0 = 10e-3; t=tend/2\n    X_t_2_3.append(i[0])\n    Y_t_2_3.append(i[1])\n\nfor i in tqdm(pontos_t_1_3): #X_0 = 10e-3; t=tend\n    X_t_1_3.append(i[0])\n    Y_t_1_3.append(i[1])\n\nfor i in tqdm(pontos_t_2_2): #X_0 = 10e-2; t=tend/2\n    X_t_2_2.append(i[0])\n    Y_t_2_2.append(i[1])\n\nfor i in tqdm(pontos_t_1_2): #X_0 = 10e-2; t=tend\n    X_t_1_2.append(i[0])\n    Y_t_1_2.append(i[1])\n\nfor i in tqdm(pontos_t_2_1): #X_0 = 10e-1; t=tend/2\n    X_t_2_1.append(i[0])\n    Y_t_2_1.append(i[1])\n\nfor i in tqdm(pontos_t_1_1): #X_0 = 10e-1; t=tend\n    X_t_1_1.append(i[0])\n    Y_t_1_1.append(i[1])\n\nfor i in tqdm(pontos_t_2_0): #X_0 = 1; t=tend/2\n    X_t_2_0.append(i[0])\n    Y_t_2_0.append(i[1])\n\nfor i in tqdm(pontos_t_1_0): #X_0 = 1; t=tend\n    X_t_1_0.append(i[0])\n    Y_t_1_0.append(i[1])",
      "metadata": {
        "trusted": true
      },
      "execution_count": 3,
      "outputs": [
        {
          "ename": "<class 'NameError'>",
          "evalue": "name 't_0' is not defined",
          "traceback": [
            "\u001b[0;31m---------------------------------------------------------------------------\u001b[0m",
            "\u001b[0;31mNameError\u001b[0m                                 Traceback (most recent call last)",
            "Cell \u001b[0;32mIn [3], line 2\u001b[0m\n\u001b[1;32m      1\u001b[0m \u001b[38;5;66;03m#conjunto de dados\u001b[39;00m\n\u001b[0;32m----> 2\u001b[0m pontos_t_0 \u001b[38;5;241m=\u001b[39m np\u001b[38;5;241m.\u001b[39mloadtxt(\u001b[43mt_0\u001b[49m, delimiter\u001b[38;5;241m=\u001b[39m\u001b[38;5;124m\"\u001b[39m\u001b[38;5;124m,\u001b[39m\u001b[38;5;124m\"\u001b[39m)     \u001b[38;5;66;03m#X_0 = 10e-3, 10e-2, 10e-1, 1; t=0\u001b[39;00m\n\u001b[1;32m      3\u001b[0m pontos_t_2_3 \u001b[38;5;241m=\u001b[39m np\u001b[38;5;241m.\u001b[39mloadtxt(t_2_3, delimiter\u001b[38;5;241m=\u001b[39m\u001b[38;5;124m\"\u001b[39m\u001b[38;5;124m,\u001b[39m\u001b[38;5;124m\"\u001b[39m) \u001b[38;5;66;03m#X_0 = 10e-3; t=tend/2\u001b[39;00m\n\u001b[1;32m      4\u001b[0m pontos_t_1_3 \u001b[38;5;241m=\u001b[39m np\u001b[38;5;241m.\u001b[39mloadtxt(t_1_3, delimiter\u001b[38;5;241m=\u001b[39m\u001b[38;5;124m\"\u001b[39m\u001b[38;5;124m,\u001b[39m\u001b[38;5;124m\"\u001b[39m) \u001b[38;5;66;03m#X_0 = 10e-3; t=tend\u001b[39;00m\n",
            "\u001b[0;31mNameError\u001b[0m: name 't_0' is not defined"
          ],
          "output_type": "error"
        }
      ]
    },
    {
      "cell_type": "code",
      "source": "#produzir o gráfico\nfig, axis = plt.subplots(2, 2)\n\nfig.suptitle('Distribution Evolution of Electron Beams', fontsize=16)\n\nfig.tight_layout(pad=2.5)\n\naxis[0, 0].plot(X_t_0, Y_t_0, color='red', label=r'$t=0$')                #X_0 = 10e-1; t=0\n\naxis[0, 0].plot(X_t_2_3, Y_t_2_3, color='orange', label=r'$t=t_{end}/2$') #X_0 = 10e-1; t=tend/2\n\naxis[0, 0].plot(X_t_1_3, Y_t_1_3, color='blue', label=r'$t=t_{end}$')     #X_0 = 10e-1; t=tend\n\naxis[0, 0].set_yscale('log')\n\naxis[0, 0].set_xlim([0, 1.25])\naxis[0, 0].set_ylim([0.01, 1])\n\naxis[0, 0].set_title('$\\chi_{0}=10^{-3}$', fontsize=16)\n\naxis[0, 0].set_xticks([0, 0.25, 0.5, 0.75, 1, 1.25])\n\naxis[0, 0].set_xlabel('${\\gamma}/{\\gamma_0}$', fontsize=12)\naxis[0, 0].set_ylabel('$f_e(\\gamma)$', fontsize=12)\n\naxis[0, 0].legend(loc=2, prop={'size': 10})\n\naxis[0, 1].plot(X_t_0, Y_t_0, color='red', label=r'$t=0$')                #X_0 = 10e-1; t=0\n\naxis[0, 1].plot(X_t_2_2, Y_t_2_2, color='orange', label=r'$t=t_{end}/2$') #X_0 = 10e-1; t=tend/2\n\naxis[0, 1].plot(X_t_1_2, Y_t_1_2, color='blue', label=r'$t=t_{end}$')     #X_0 = 10e-1; t=tend\n\naxis[0, 1].set_yscale('log')\n\naxis[0, 1].set_xlim([0, 1.25])\naxis[0, 1].set_ylim([0.01, 1])\n\naxis[0, 1].set_xticks([0, 0.25, 0.5, 0.75, 1, 1.25])\n\naxis[0, 1].set_title('$\\chi_{0}=10^{-2}$', fontsize=16)\n\naxis[0, 1].set_xlabel('${\\gamma}/{\\gamma_0}$', fontsize=12)\naxis[0, 1].set_ylabel('$f_e(\\gamma)$', fontsize=12)\n\naxis[0, 1].legend(loc=2, prop={'size': 10})\n\naxis[1, 0].plot(X_t_0, Y_t_0, color='red', label=r'$t=0$')                #X_0 = 10e-1; t=0\n\naxis[1, 0].plot(X_t_2_1, Y_t_2_1, color='orange', label=r'$t=t_{end}/2$') #X_0 = 10e-1; t=tend/2\n\naxis[1, 0].plot(X_t_1_1, Y_t_1_1, color='blue', label=r'$t=t_{end}$')     #X_0 = 10e-1; t=tend\n\naxis[1, 0].set_yscale('log')\n\naxis[1, 0].set_xlim([0, 1.25])\naxis[1, 0].set_ylim([0.01, 1])\n\naxis[1, 0].set_xticks([0, 0.25, 0.5, 0.75, 1, 1.25])\n\naxis[1, 0].set_title('$\\chi_{0}=10^{-1}$', fontsize=16)\n\naxis[1, 0].set_xlabel('${\\gamma}/{\\gamma_0}$', fontsize=12)\naxis[1, 0].set_ylabel('$f_e(\\gamma)$', fontsize=12)\n\naxis[1, 0].legend(loc=2, prop={'size': 10})\n\naxis[1, 1].plot(X_t_0, Y_t_0, color='red', label=r'$t=0$')                #X_0 = 1; t=0\n\naxis[1, 1].plot(X_t_2_0, Y_t_2_0, color='orange', label=r'$t=t_{end}/2$') #X_0 = 1; t=tend/2\n\naxis[1, 1].plot(X_t_1_0, Y_t_1_0, color='blue', label=r'$t=t_{end}$')     #X_0 = 1; t=tend\n\naxis[1, 1].set_yscale('log')\n\naxis[1, 1].set_xlim([0, 1.25])\naxis[1, 1].set_ylim([0.01, 1])\n\naxis[1, 1].set_xticks([0, 0.25, 0.5, 0.75, 1, 1.25])\n\naxis[1, 1].set_title('$\\chi_{0}=1$', fontsize=16)\n\naxis[1, 1].set_xlabel('${\\gamma}/{\\gamma_0}$', fontsize=12)\naxis[1, 1].set_ylabel('$f_e(\\gamma)$', fontsize=12)\n\naxis[1, 1].legend(loc=2, prop={'size': 10})\n\nplt.show()",
      "metadata": {
        "trusted": true
      },
      "execution_count": 4,
      "outputs": [
        {
          "ename": "<class 'NameError'>",
          "evalue": "name 'X_t_0' is not defined",
          "traceback": [
            "\u001b[0;31m---------------------------------------------------------------------------\u001b[0m",
            "\u001b[0;31mNameError\u001b[0m                                 Traceback (most recent call last)",
            "Cell \u001b[0;32mIn [4], line 8\u001b[0m\n\u001b[1;32m      4\u001b[0m fig\u001b[38;5;241m.\u001b[39msuptitle(\u001b[38;5;124m'\u001b[39m\u001b[38;5;124mEnergy Evolution of Electron Beams\u001b[39m\u001b[38;5;124m'\u001b[39m, fontsize\u001b[38;5;241m=\u001b[39m\u001b[38;5;241m16\u001b[39m)\n\u001b[1;32m      6\u001b[0m fig\u001b[38;5;241m.\u001b[39mtight_layout(pad\u001b[38;5;241m=\u001b[39m\u001b[38;5;241m2.5\u001b[39m)\n\u001b[0;32m----> 8\u001b[0m axis[\u001b[38;5;241m0\u001b[39m, \u001b[38;5;241m0\u001b[39m]\u001b[38;5;241m.\u001b[39mplot(\u001b[43mX_t_0\u001b[49m, Y_t_0, color\u001b[38;5;241m=\u001b[39m\u001b[38;5;124m'\u001b[39m\u001b[38;5;124mred\u001b[39m\u001b[38;5;124m'\u001b[39m, label\u001b[38;5;241m=\u001b[39m\u001b[38;5;124mr\u001b[39m\u001b[38;5;124m'\u001b[39m\u001b[38;5;124m$t=0$\u001b[39m\u001b[38;5;124m'\u001b[39m)                \u001b[38;5;66;03m#X_0 = 10e-1; t=0\u001b[39;00m\n\u001b[1;32m     10\u001b[0m axis[\u001b[38;5;241m0\u001b[39m, \u001b[38;5;241m0\u001b[39m]\u001b[38;5;241m.\u001b[39mplot(X_t_2_3, Y_t_2_3, color\u001b[38;5;241m=\u001b[39m\u001b[38;5;124m'\u001b[39m\u001b[38;5;124morange\u001b[39m\u001b[38;5;124m'\u001b[39m, label\u001b[38;5;241m=\u001b[39m\u001b[38;5;124mr\u001b[39m\u001b[38;5;124m'\u001b[39m\u001b[38;5;124m$t=t_\u001b[39m\u001b[38;5;132;01m{end}\u001b[39;00m\u001b[38;5;124m/2$\u001b[39m\u001b[38;5;124m'\u001b[39m) \u001b[38;5;66;03m#X_0 = 10e-1; t=tend/2\u001b[39;00m\n\u001b[1;32m     12\u001b[0m axis[\u001b[38;5;241m0\u001b[39m, \u001b[38;5;241m0\u001b[39m]\u001b[38;5;241m.\u001b[39mplot(X_t_1_3, Y_t_1_3, color\u001b[38;5;241m=\u001b[39m\u001b[38;5;124m'\u001b[39m\u001b[38;5;124mblue\u001b[39m\u001b[38;5;124m'\u001b[39m, label\u001b[38;5;241m=\u001b[39m\u001b[38;5;124mr\u001b[39m\u001b[38;5;124m'\u001b[39m\u001b[38;5;124m$t=t_\u001b[39m\u001b[38;5;132;01m{end}\u001b[39;00m\u001b[38;5;124m$\u001b[39m\u001b[38;5;124m'\u001b[39m)     \u001b[38;5;66;03m#X_0 = 10e-1; t=tend\u001b[39;00m\n",
            "\u001b[0;31mNameError\u001b[0m: name 'X_t_0' is not defined"
          ],
          "output_type": "error"
        }
      ]
    }
  ]
}